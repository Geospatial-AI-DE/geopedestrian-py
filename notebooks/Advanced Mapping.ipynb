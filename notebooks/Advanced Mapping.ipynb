{
 "cells": [
  {
   "cell_type": "markdown",
   "id": "b2176b6f",
   "metadata": {},
   "source": [
    "# Advanced Mapping\n",
    "We use the geocoding capabilities locating areas of interest, and a map widget callback for solving various walking scenarios."
   ]
  },
  {
   "cell_type": "code",
   "execution_count": 1,
   "id": "f95b52ea",
   "metadata": {},
   "outputs": [],
   "source": [
    "from arcgis.gis import GIS\n",
    "from arcgis.features import FeatureSet\n",
    "from arcgis.geometry.functions import project\n",
    "import ipywidgets as widgets\n",
    "from ipywidgets import HBox, Label, Layout\n",
    "from geopedestrian.categories import CategoryRegistry\n",
    "from geopedestrian.services import drive_from, solve_walking, walk_from, walk_to\n",
    "from georapid.client import GeoRapidClient\n",
    "from georapid.factory import EnvironmentClientFactory"
   ]
  },
  {
   "cell_type": "code",
   "execution_count": 2,
   "id": "dd3071d4",
   "metadata": {},
   "outputs": [],
   "source": [
    "host = 'geopedestrian.p.rapidapi.com'\n",
    "client: GeoRapidClient = EnvironmentClientFactory.create_client_with_host(host)"
   ]
  },
  {
   "cell_type": "code",
   "execution_count": 3,
   "id": "e023e746",
   "metadata": {},
   "outputs": [],
   "source": [
    "gis = GIS()"
   ]
  },
  {
   "cell_type": "code",
   "execution_count": 4,
   "id": "e6d38752",
   "metadata": {},
   "outputs": [],
   "source": [
    "def radio_eventhandler(change):\n",
    "    # Unregister callbacks\n",
    "    map_view.on_click(solve_walking_areas, remove=True)\n",
    "    map_view.on_click(find_places, remove=True)\n",
    "    \n",
    "    if 'Map' == change.new:\n",
    "        pass\n",
    "    elif 'Solve' == change.new:\n",
    "        # Register callback\n",
    "        map_view.on_click(solve_walking_areas)\n",
    "    elif 'Find' == change.new:\n",
    "        # Register callback\n",
    "        map_view.on_click(find_places)"
   ]
  },
  {
   "cell_type": "code",
   "execution_count": 5,
   "id": "1f3d6fc9",
   "metadata": {},
   "outputs": [],
   "source": [
    "def solve_walking_areas(callback_map, geometry):\n",
    "    \"\"\"\n",
    "    Solve walking areas which are accessible by pedestrians.\n",
    "    \"\"\"\n",
    "    try:\n",
    "        callback_map.remove_layers()\n",
    "        callback_map.clear_graphics()\n",
    "        callback_map.draw(geometry)        \n",
    "        \n",
    "        spatial_reference = geometry['spatialReference']\n",
    "        in_sr = spatial_reference['wkid']\n",
    "        out_sr = 4326\n",
    "        project_result = project([geometry], in_sr, out_sr)\n",
    "        location = project_result[0]\n",
    "        lat, lon = location.y, location.x\n",
    "        \n",
    "        # Solve walking areas\n",
    "        walking_result = solve_walking(client, lat, lon)\n",
    "        walking_areas_sdf = FeatureSet.from_geojson(walking_result).sdf\n",
    "        walking_areas_sdf.spatial.plot(callback_map, renderer_type='u', col='ToBreak', cmap='RdYlGn', alpha=0.35)\n",
    "        \n",
    "    except Exception as err:\n",
    "        print(err)\n",
    "\n",
    "def find_places(callback_map, geometry):\n",
    "    \"\"\"\n",
    "    Find places which are accessible by pedestrians.\n",
    "    \"\"\"\n",
    "    try:\n",
    "        callback_map.remove_layers()\n",
    "        callback_map.clear_graphics()\n",
    "        callback_map.draw(geometry)        \n",
    "        \n",
    "        spatial_reference = geometry['spatialReference']\n",
    "        in_sr = spatial_reference['wkid']\n",
    "        out_sr = 4326\n",
    "        project_result = project([geometry], in_sr, out_sr)\n",
    "        location = project_result[0]\n",
    "        lat, lon = location.y, location.x\n",
    "        \n",
    "        # Solve walking to the places category\n",
    "        category_registry = CategoryRegistry()\n",
    "        category = category_registry.find_id(category_widget.value)\n",
    "        walking_result = walk_to(client, lat, lon, category)\n",
    "        places_geojson = walking_result['places']\n",
    "        places_sdf = FeatureSet.from_geojson(places_geojson).sdf\n",
    "        places_sdf.spatial.plot(callback_map)\n",
    "        \n",
    "        routes_geojson = walking_result['routes']\n",
    "        routes_sdf = FeatureSet.from_geojson(routes_geojson).sdf\n",
    "        routes_sdf.spatial.plot(callback_map, renderer_type='s', palette=[0, 120, 0, 130], line_width=5)\n",
    "    except Exception as err:\n",
    "        print(err)"
   ]
  },
  {
   "cell_type": "code",
   "execution_count": 6,
   "id": "2d54aed9",
   "metadata": {},
   "outputs": [
    {
     "data": {
      "application/vnd.jupyter.widget-view+json": {
       "model_id": "bb17df6fc85a4b0fb4e91f77f174b934",
       "version_major": 2,
       "version_minor": 0
      },
      "text/plain": [
       "HBox(children=(RadioButtons(description='Tool:', options=('Map', 'Solve', 'Find'), value='Map'), Text(value='S…"
      ]
     },
     "metadata": {},
     "output_type": "display_data"
    }
   ],
   "source": [
    "maptool_widget = widgets.RadioButtons(\n",
    "    options=['Map', 'Solve', 'Find'],\n",
    "    description='Tool:',\n",
    "    disabled=False\n",
    ")\n",
    "location_widget = widgets.Text(\n",
    "    value='San Diego Convention Center',\n",
    "    placeholder='Name your area of interest',\n",
    "    description='Location:',\n",
    "    disabled=False   \n",
    ")\n",
    "category_widget = widgets.Dropdown(\n",
    "    options=['Bar', 'Hotel'],\n",
    "    value='Bar',\n",
    "    description='Category:',\n",
    "    disabled=False,\n",
    ")\n",
    "maptool_widget.observe(radio_eventhandler, names='value')\n",
    "HBox([maptool_widget, location_widget, category_widget])"
   ]
  },
  {
   "cell_type": "code",
   "execution_count": 7,
   "id": "dbefcc75",
   "metadata": {},
   "outputs": [
    {
     "data": {
      "application/vnd.jupyter.widget-view+json": {
       "model_id": "94bb2aed669b40fbb619292788306d20",
       "version_major": 2,
       "version_minor": 0
      },
      "text/plain": [
       "MapView(layout=Layout(height='400px', width='100%'))"
      ]
     },
     "metadata": {},
     "output_type": "display_data"
    },
    {
     "data": {
      "text/html": [
       "<div class=\"map-static-img-preview-ff69eea6-ed9f-430a-925c-ed5247fc182d\"><img src=\"\"></img></div>"
      ],
      "text/plain": [
       "<IPython.core.display.HTML object>"
      ]
     },
     "metadata": {},
     "output_type": "display_data"
    },
    {
     "data": {
      "text/html": [
       "<div class=\"map-html-embed-preview-ff69eea6-ed9f-430a-925c-ed5247fc182d\"></div>"
      ],
      "text/plain": [
       "<IPython.core.display.HTML object>"
      ]
     },
     "metadata": {},
     "output_type": "display_data"
    }
   ],
   "source": [
    "map_view = gis.map(location_widget.value)\n",
    "map_view"
   ]
  },
  {
   "cell_type": "code",
   "execution_count": null,
   "id": "efccb270",
   "metadata": {},
   "outputs": [],
   "source": []
  }
 ],
 "metadata": {
  "kernelspec": {
   "display_name": "Python 3 (ipykernel)",
   "language": "python",
   "name": "python3"
  },
  "language_info": {
   "codemirror_mode": {
    "name": "ipython",
    "version": 3
   },
   "file_extension": ".py",
   "mimetype": "text/x-python",
   "name": "python",
   "nbconvert_exporter": "python",
   "pygments_lexer": "ipython3",
   "version": "3.9.15"
  }
 },
 "nbformat": 4,
 "nbformat_minor": 5
}
