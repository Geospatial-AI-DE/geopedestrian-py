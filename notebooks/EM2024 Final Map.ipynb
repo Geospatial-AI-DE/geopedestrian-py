{
 "cells": [
  {
   "cell_type": "code",
   "execution_count": 9,
   "id": "94bcd6e5",
   "metadata": {},
   "outputs": [],
   "source": [
    "from arcgis.gis import GIS\n",
    "from arcgis.features import FeatureSet\n",
    "from geopedestrian.categories import CategoryRegistry\n",
    "from geopedestrian.services import drive_from, solve_walking, walk_from, walk_to\n",
    "from georapid.client import GeoRapidClient\n",
    "from georapid.factory import EnvironmentClientFactory\n",
    "import pandas as pd\n",
    "import requests"
   ]
  },
  {
   "cell_type": "code",
   "execution_count": 2,
   "id": "76cfac4c",
   "metadata": {},
   "outputs": [],
   "source": [
    "host = 'geopedestrian.p.rapidapi.com'\n",
    "client: GeoRapidClient = EnvironmentClientFactory.create_client_with_host(host)"
   ]
  },
  {
   "cell_type": "markdown",
   "id": "cda73558",
   "metadata": {},
   "source": [
    "## Query a defined set of Berlin stations as GeoJSON"
   ]
  },
  {
   "cell_type": "code",
   "execution_count": 5,
   "id": "099544ca",
   "metadata": {},
   "outputs": [],
   "source": [
    "def get_berlin_stations():\n",
    "    raw_url = 'https://gist.githubusercontent.com/gisfromscratch/3535a73c806d42a28a0eab6962f552d8/raw/eaaad5f7598688c2ec2c753e6cffe54d8d12bf16/berlin_starting_locations.geojson'\n",
    "    geojson_response = requests.get(raw_url)\n",
    "    geojson_response.raise_for_status()\n",
    "    return FeatureSet.from_geojson(geojson_response.json())"
   ]
  },
  {
   "cell_type": "code",
   "execution_count": 11,
   "id": "cc61b64a",
   "metadata": {},
   "outputs": [
    {
     "name": "stderr",
     "output_type": "stream",
     "text": [
      "/mnt/data/miniconda3/envs/geourban-int/lib/python3.9/site-packages/arcgis/features/feature.py:1014: UserWarning: crs has been deprecated and will be ignored. Please see: https://tools.ietf.org/html/rfc7946#section-4 for more information.\n",
      "  warn(\n"
     ]
    },
    {
     "data": {
      "text/html": [
       "<div>\n",
       "<style scoped>\n",
       "    .dataframe tbody tr th:only-of-type {\n",
       "        vertical-align: middle;\n",
       "    }\n",
       "\n",
       "    .dataframe tbody tr th {\n",
       "        vertical-align: top;\n",
       "    }\n",
       "\n",
       "    .dataframe thead th {\n",
       "        text-align: right;\n",
       "    }\n",
       "</style>\n",
       "<table border=\"1\" class=\"dataframe\">\n",
       "  <thead>\n",
       "    <tr style=\"text-align: right;\">\n",
       "      <th></th>\n",
       "      <th>name</th>\n",
       "      <th>OBJECTID</th>\n",
       "      <th>SHAPE</th>\n",
       "    </tr>\n",
       "  </thead>\n",
       "  <tbody>\n",
       "    <tr>\n",
       "      <th>0</th>\n",
       "      <td>U-Bahn Ruhleben</td>\n",
       "      <td>1</td>\n",
       "      <td>{\"x\": 13.241183855834903, \"y\": 52.525492469777...</td>\n",
       "    </tr>\n",
       "    <tr>\n",
       "      <th>1</th>\n",
       "      <td>U-Bahn Olympiastadion</td>\n",
       "      <td>2</td>\n",
       "      <td>{\"x\": 13.249940139300833, \"y\": 52.516993066967...</td>\n",
       "    </tr>\n",
       "    <tr>\n",
       "      <th>2</th>\n",
       "      <td>S-Bahn Olympiastadion</td>\n",
       "      <td>3</td>\n",
       "      <td>{\"x\": 13.241096425470483, \"y\": 52.511158549082...</td>\n",
       "    </tr>\n",
       "    <tr>\n",
       "      <th>3</th>\n",
       "      <td>S-Bahn Pichelsberg</td>\n",
       "      <td>4</td>\n",
       "      <td>{\"x\": 13.22863185816456, \"y\": 52.5098115984010...</td>\n",
       "    </tr>\n",
       "    <tr>\n",
       "      <th>4</th>\n",
       "      <td>S-Bahn Stresow</td>\n",
       "      <td>5</td>\n",
       "      <td>{\"x\": 13.20952081689347, \"y\": 52.5320197242490...</td>\n",
       "    </tr>\n",
       "  </tbody>\n",
       "</table>\n",
       "</div>"
      ],
      "text/plain": [
       "                    name  OBJECTID  \\\n",
       "0        U-Bahn Ruhleben         1   \n",
       "1  U-Bahn Olympiastadion         2   \n",
       "2  S-Bahn Olympiastadion         3   \n",
       "3     S-Bahn Pichelsberg         4   \n",
       "4         S-Bahn Stresow         5   \n",
       "\n",
       "                                               SHAPE  \n",
       "0  {\"x\": 13.241183855834903, \"y\": 52.525492469777...  \n",
       "1  {\"x\": 13.249940139300833, \"y\": 52.516993066967...  \n",
       "2  {\"x\": 13.241096425470483, \"y\": 52.511158549082...  \n",
       "3  {\"x\": 13.22863185816456, \"y\": 52.5098115984010...  \n",
       "4  {\"x\": 13.20952081689347, \"y\": 52.5320197242490...  "
      ]
     },
     "execution_count": 11,
     "metadata": {},
     "output_type": "execute_result"
    }
   ],
   "source": [
    "berlin_stations = get_berlin_stations()\n",
    "locations_sdf = berlin_stations.sdf\n",
    "locations_sdf"
   ]
  },
  {
   "cell_type": "markdown",
   "id": "f95fe245",
   "metadata": {},
   "source": [
    "## Visualize the walking areas from every defined station"
   ]
  },
  {
   "cell_type": "code",
   "execution_count": 10,
   "id": "44a012ee",
   "metadata": {},
   "outputs": [],
   "source": [
    "def solve_walking_areas(client: GeoRapidClient, locations_sdf):\n",
    "    \"\"\"\n",
    "    Solve walking areas which are accessible by pedestrians using the specified locations.\n",
    "    \"\"\"\n",
    "    walking_results = locations_sdf.SHAPE.apply(lambda shape: solve_walking(client, shape.y, shape.x))\n",
    "    walking_areas_sdf = None\n",
    "    for walking_result in walking_results:\n",
    "        if None is walking_areas_sdf:\n",
    "            walking_areas_sdf = FeatureSet.from_geojson(walking_result).sdf\n",
    "        else:\n",
    "            walking_areas_sdf = pd.concat([walking_areas_sdf, FeatureSet.from_geojson(walking_result).sdf], ignore_index=True)\n",
    "    return walking_areas_sdf"
   ]
  },
  {
   "cell_type": "code",
   "execution_count": 7,
   "id": "c8127279",
   "metadata": {},
   "outputs": [],
   "source": [
    "gis = GIS()"
   ]
  },
  {
   "cell_type": "code",
   "execution_count": 69,
   "id": "276d5d4a",
   "metadata": {},
   "outputs": [],
   "source": [
    "def plot_map(walking_areas_sdf):\n",
    "    berlin_map = gis.map('Berlin, Germany')\n",
    "    berlin_map.basemap = 'osm'\n",
    "    walking_areas_sdf.spatial.plot(berlin_map, renderer_type='u', col='ToBreak', cmap='RdYlGn', alpha=0.35)\n",
    "    berlin_map.zoom_to_layer(walking_areas_sdf)\n",
    "    return berlin_map"
   ]
  },
  {
   "cell_type": "code",
   "execution_count": 12,
   "id": "b9be9715",
   "metadata": {},
   "outputs": [
    {
     "data": {
      "text/html": [
       "<div>\n",
       "<style scoped>\n",
       "    .dataframe tbody tr th:only-of-type {\n",
       "        vertical-align: middle;\n",
       "    }\n",
       "\n",
       "    .dataframe tbody tr th {\n",
       "        vertical-align: top;\n",
       "    }\n",
       "\n",
       "    .dataframe thead th {\n",
       "        text-align: right;\n",
       "    }\n",
       "</style>\n",
       "<table border=\"1\" class=\"dataframe\">\n",
       "  <thead>\n",
       "    <tr style=\"text-align: right;\">\n",
       "      <th></th>\n",
       "      <th>ObjectID</th>\n",
       "      <th>FacilityID</th>\n",
       "      <th>Name</th>\n",
       "      <th>FromBreak</th>\n",
       "      <th>ToBreak</th>\n",
       "      <th>Shape_Length</th>\n",
       "      <th>Shape_Area</th>\n",
       "      <th>SHAPE</th>\n",
       "    </tr>\n",
       "  </thead>\n",
       "  <tbody>\n",
       "    <tr>\n",
       "      <th>0</th>\n",
       "      <td>1</td>\n",
       "      <td>1</td>\n",
       "      <td>Location 1 : 10 - 15</td>\n",
       "      <td>10</td>\n",
       "      <td>15</td>\n",
       "      <td>0.15740288767591595</td>\n",
       "      <td>0.00016789873778614772</td>\n",
       "      <td>{\"rings\": [[[13.230686410000033, 52.5317930550...</td>\n",
       "    </tr>\n",
       "    <tr>\n",
       "      <th>1</th>\n",
       "      <td>2</td>\n",
       "      <td>1</td>\n",
       "      <td>Location 1 : 5 - 10</td>\n",
       "      <td>5</td>\n",
       "      <td>10</td>\n",
       "      <td>0.08936868406718201</td>\n",
       "      <td>9.211986361839968e-05</td>\n",
       "      <td>{\"rings\": [[[13.232707610000034, 52.5297718540...</td>\n",
       "    </tr>\n",
       "    <tr>\n",
       "      <th>2</th>\n",
       "      <td>3</td>\n",
       "      <td>1</td>\n",
       "      <td>Location 1 : 0 - 5</td>\n",
       "      <td>0</td>\n",
       "      <td>5</td>\n",
       "      <td>0.029241417552648863</td>\n",
       "      <td>4.402991422438283e-05</td>\n",
       "      <td>{\"rings\": [[[13.238546633000055, 52.5281998100...</td>\n",
       "    </tr>\n",
       "    <tr>\n",
       "      <th>3</th>\n",
       "      <td>1</td>\n",
       "      <td>1</td>\n",
       "      <td>Location 1 : 10 - 15</td>\n",
       "      <td>10</td>\n",
       "      <td>15</td>\n",
       "      <td>0.16790349871280333</td>\n",
       "      <td>0.00022801747248135827</td>\n",
       "      <td>{\"rings\": [[[13.245733122000047, 52.5268523430...</td>\n",
       "    </tr>\n",
       "    <tr>\n",
       "      <th>4</th>\n",
       "      <td>2</td>\n",
       "      <td>1</td>\n",
       "      <td>Location 1 : 5 - 10</td>\n",
       "      <td>5</td>\n",
       "      <td>10</td>\n",
       "      <td>0.10435066579794955</td>\n",
       "      <td>0.00010962087535717955</td>\n",
       "      <td>{\"rings\": [[[13.246406855000032, 52.5237082540...</td>\n",
       "    </tr>\n",
       "    <tr>\n",
       "      <th>5</th>\n",
       "      <td>3</td>\n",
       "      <td>1</td>\n",
       "      <td>Location 1 : 0 - 5</td>\n",
       "      <td>0</td>\n",
       "      <td>5</td>\n",
       "      <td>0.028226565077630418</td>\n",
       "      <td>3.749855907483814e-05</td>\n",
       "      <td>{\"rings\": [[[13.247529744000076, 52.5201150090...</td>\n",
       "    </tr>\n",
       "    <tr>\n",
       "      <th>6</th>\n",
       "      <td>1</td>\n",
       "      <td>1</td>\n",
       "      <td>Location 1 : 10 - 15</td>\n",
       "      <td>10</td>\n",
       "      <td>15</td>\n",
       "      <td>0.18724654855945144</td>\n",
       "      <td>0.00022743746386415066</td>\n",
       "      <td>{\"rings\": [[[13.24101698800007, 52.52056416500...</td>\n",
       "    </tr>\n",
       "    <tr>\n",
       "      <th>7</th>\n",
       "      <td>2</td>\n",
       "      <td>1</td>\n",
       "      <td>Location 1 : 5 - 10</td>\n",
       "      <td>5</td>\n",
       "      <td>10</td>\n",
       "      <td>0.10848226272188806</td>\n",
       "      <td>0.00012989582042806838</td>\n",
       "      <td>{\"rings\": [[[13.243038188000071, 52.5174200760...</td>\n",
       "    </tr>\n",
       "    <tr>\n",
       "      <th>8</th>\n",
       "      <td>3</td>\n",
       "      <td>1</td>\n",
       "      <td>Location 1 : 0 - 5</td>\n",
       "      <td>0</td>\n",
       "      <td>5</td>\n",
       "      <td>0.03363331393429591</td>\n",
       "      <td>5.338564528342173e-05</td>\n",
       "      <td>{\"rings\": [[[13.242813611000031, 52.5142759870...</td>\n",
       "    </tr>\n",
       "    <tr>\n",
       "      <th>9</th>\n",
       "      <td>1</td>\n",
       "      <td>1</td>\n",
       "      <td>Location 1 : 10 - 15</td>\n",
       "      <td>10</td>\n",
       "      <td>15</td>\n",
       "      <td>0.17631942308922788</td>\n",
       "      <td>0.0002092051545174546</td>\n",
       "      <td>{\"rings\": [[[13.234279654000034, 52.5192166980...</td>\n",
       "    </tr>\n",
       "    <tr>\n",
       "      <th>10</th>\n",
       "      <td>2</td>\n",
       "      <td>1</td>\n",
       "      <td>Location 1 : 5 - 10</td>\n",
       "      <td>5</td>\n",
       "      <td>10</td>\n",
       "      <td>0.09831261076906833</td>\n",
       "      <td>0.00012732362483898333</td>\n",
       "      <td>{\"rings\": [[[13.231809299000076, 52.5174200760...</td>\n",
       "    </tr>\n",
       "    <tr>\n",
       "      <th>11</th>\n",
       "      <td>3</td>\n",
       "      <td>1</td>\n",
       "      <td>Location 1 : 0 - 5</td>\n",
       "      <td>0</td>\n",
       "      <td>5</td>\n",
       "      <td>0.03126274866253024</td>\n",
       "      <td>5.068736183619915e-05</td>\n",
       "      <td>{\"rings\": [[[13.231809299000076, 52.5129285200...</td>\n",
       "    </tr>\n",
       "    <tr>\n",
       "      <th>12</th>\n",
       "      <td>1</td>\n",
       "      <td>1</td>\n",
       "      <td>Location 1 : 10 - 15</td>\n",
       "      <td>10</td>\n",
       "      <td>15</td>\n",
       "      <td>0.15172037107232228</td>\n",
       "      <td>0.0001483550979592058</td>\n",
       "      <td>{\"rings\": [[[13.20575827500005, 52.54189905500...</td>\n",
       "    </tr>\n",
       "    <tr>\n",
       "      <th>13</th>\n",
       "      <td>2</td>\n",
       "      <td>1</td>\n",
       "      <td>Location 1 : 5 - 10</td>\n",
       "      <td>5</td>\n",
       "      <td>10</td>\n",
       "      <td>0.10273683722314425</td>\n",
       "      <td>0.00012101922709376162</td>\n",
       "      <td>{\"rings\": [[[13.205084541000076, 52.5387549660...</td>\n",
       "    </tr>\n",
       "    <tr>\n",
       "      <th>14</th>\n",
       "      <td>3</td>\n",
       "      <td>1</td>\n",
       "      <td>Location 1 : 0 - 5</td>\n",
       "      <td>0</td>\n",
       "      <td>5</td>\n",
       "      <td>0.033835663123083524</td>\n",
       "      <td>4.564384469499044e-05</td>\n",
       "      <td>{\"rings\": [[[13.211597297000026, 52.5362846100...</td>\n",
       "    </tr>\n",
       "  </tbody>\n",
       "</table>\n",
       "</div>"
      ],
      "text/plain": [
       "    ObjectID FacilityID                  Name FromBreak ToBreak  \\\n",
       "0          1          1  Location 1 : 10 - 15        10      15   \n",
       "1          2          1   Location 1 : 5 - 10         5      10   \n",
       "2          3          1    Location 1 : 0 - 5         0       5   \n",
       "3          1          1  Location 1 : 10 - 15        10      15   \n",
       "4          2          1   Location 1 : 5 - 10         5      10   \n",
       "5          3          1    Location 1 : 0 - 5         0       5   \n",
       "6          1          1  Location 1 : 10 - 15        10      15   \n",
       "7          2          1   Location 1 : 5 - 10         5      10   \n",
       "8          3          1    Location 1 : 0 - 5         0       5   \n",
       "9          1          1  Location 1 : 10 - 15        10      15   \n",
       "10         2          1   Location 1 : 5 - 10         5      10   \n",
       "11         3          1    Location 1 : 0 - 5         0       5   \n",
       "12         1          1  Location 1 : 10 - 15        10      15   \n",
       "13         2          1   Location 1 : 5 - 10         5      10   \n",
       "14         3          1    Location 1 : 0 - 5         0       5   \n",
       "\n",
       "            Shape_Length              Shape_Area  \\\n",
       "0    0.15740288767591595  0.00016789873778614772   \n",
       "1    0.08936868406718201   9.211986361839968e-05   \n",
       "2   0.029241417552648863   4.402991422438283e-05   \n",
       "3    0.16790349871280333  0.00022801747248135827   \n",
       "4    0.10435066579794955  0.00010962087535717955   \n",
       "5   0.028226565077630418   3.749855907483814e-05   \n",
       "6    0.18724654855945144  0.00022743746386415066   \n",
       "7    0.10848226272188806  0.00012989582042806838   \n",
       "8    0.03363331393429591   5.338564528342173e-05   \n",
       "9    0.17631942308922788   0.0002092051545174546   \n",
       "10   0.09831261076906833  0.00012732362483898333   \n",
       "11   0.03126274866253024   5.068736183619915e-05   \n",
       "12   0.15172037107232228   0.0001483550979592058   \n",
       "13   0.10273683722314425  0.00012101922709376162   \n",
       "14  0.033835663123083524   4.564384469499044e-05   \n",
       "\n",
       "                                                SHAPE  \n",
       "0   {\"rings\": [[[13.230686410000033, 52.5317930550...  \n",
       "1   {\"rings\": [[[13.232707610000034, 52.5297718540...  \n",
       "2   {\"rings\": [[[13.238546633000055, 52.5281998100...  \n",
       "3   {\"rings\": [[[13.245733122000047, 52.5268523430...  \n",
       "4   {\"rings\": [[[13.246406855000032, 52.5237082540...  \n",
       "5   {\"rings\": [[[13.247529744000076, 52.5201150090...  \n",
       "6   {\"rings\": [[[13.24101698800007, 52.52056416500...  \n",
       "7   {\"rings\": [[[13.243038188000071, 52.5174200760...  \n",
       "8   {\"rings\": [[[13.242813611000031, 52.5142759870...  \n",
       "9   {\"rings\": [[[13.234279654000034, 52.5192166980...  \n",
       "10  {\"rings\": [[[13.231809299000076, 52.5174200760...  \n",
       "11  {\"rings\": [[[13.231809299000076, 52.5129285200...  \n",
       "12  {\"rings\": [[[13.20575827500005, 52.54189905500...  \n",
       "13  {\"rings\": [[[13.205084541000076, 52.5387549660...  \n",
       "14  {\"rings\": [[[13.211597297000026, 52.5362846100...  "
      ]
     },
     "execution_count": 12,
     "metadata": {},
     "output_type": "execute_result"
    }
   ],
   "source": [
    "walking_areas_sdf = solve_walking_areas(client, locations_sdf)\n",
    "walking_areas_sdf"
   ]
  },
  {
   "cell_type": "code",
   "execution_count": 70,
   "id": "2a99c2a5",
   "metadata": {},
   "outputs": [],
   "source": [
    "berlin_walking_maps = [plot_map(walking_areas_sdf.iloc[i:i+3]) for i in range(0, len(walking_areas_sdf), 3)]"
   ]
  },
  {
   "cell_type": "code",
   "execution_count": 71,
   "id": "75f67479",
   "metadata": {},
   "outputs": [
    {
     "data": {
      "application/vnd.jupyter.widget-view+json": {
       "model_id": "5384873afe6449baa938704e16dd254d",
       "version_major": 2,
       "version_minor": 0
      },
      "text/plain": [
       "MapView(layout=Layout(height='400px', width='100%'))"
      ]
     },
     "metadata": {},
     "output_type": "display_data"
    },
    {
     "data": {
      "text/html": [
       "<div class=\"map-static-img-preview-ccc224e0-c4e1-4675-bae4-7d997da00ffc\"><img src=\"\"></img></div>"
      ],
      "text/plain": [
       "<IPython.core.display.HTML object>"
      ]
     },
     "metadata": {},
     "output_type": "display_data"
    },
    {
     "data": {
      "text/html": [
       "<div class=\"map-html-embed-preview-ccc224e0-c4e1-4675-bae4-7d997da00ffc\"></div>"
      ],
      "text/plain": [
       "<IPython.core.display.HTML object>"
      ]
     },
     "metadata": {},
     "output_type": "display_data"
    }
   ],
   "source": [
    "berlin_walking_maps[0]"
   ]
  },
  {
   "cell_type": "code",
   "execution_count": 72,
   "id": "ef558a4f",
   "metadata": {},
   "outputs": [
    {
     "data": {
      "application/vnd.jupyter.widget-view+json": {
       "model_id": "8fa807b0ce954015aa1b5da7d7ce9918",
       "version_major": 2,
       "version_minor": 0
      },
      "text/plain": [
       "MapView(layout=Layout(height='400px', width='100%'))"
      ]
     },
     "metadata": {},
     "output_type": "display_data"
    },
    {
     "data": {
      "text/html": [
       "<div class=\"map-static-img-preview-3a12f05c-6f4e-4dd3-b591-002cb28763d6\"><img src=\"\"></img></div>"
      ],
      "text/plain": [
       "<IPython.core.display.HTML object>"
      ]
     },
     "metadata": {},
     "output_type": "display_data"
    },
    {
     "data": {
      "text/html": [
       "<div class=\"map-html-embed-preview-3a12f05c-6f4e-4dd3-b591-002cb28763d6\"></div>"
      ],
      "text/plain": [
       "<IPython.core.display.HTML object>"
      ]
     },
     "metadata": {},
     "output_type": "display_data"
    }
   ],
   "source": [
    "berlin_walking_maps[1]"
   ]
  },
  {
   "cell_type": "code",
   "execution_count": 73,
   "id": "1917343f",
   "metadata": {},
   "outputs": [
    {
     "data": {
      "application/vnd.jupyter.widget-view+json": {
       "model_id": "1a2f12eae1944b23bd5e3b0dc75e71f8",
       "version_major": 2,
       "version_minor": 0
      },
      "text/plain": [
       "MapView(layout=Layout(height='400px', width='100%'))"
      ]
     },
     "metadata": {},
     "output_type": "display_data"
    },
    {
     "data": {
      "text/html": [
       "<div class=\"map-static-img-preview-c977c2ba-ca87-464b-9e52-48e3de878e1d\"><img src=\"\"></img></div>"
      ],
      "text/plain": [
       "<IPython.core.display.HTML object>"
      ]
     },
     "metadata": {},
     "output_type": "display_data"
    },
    {
     "data": {
      "text/html": [
       "<div class=\"map-html-embed-preview-c977c2ba-ca87-464b-9e52-48e3de878e1d\"></div>"
      ],
      "text/plain": [
       "<IPython.core.display.HTML object>"
      ]
     },
     "metadata": {},
     "output_type": "display_data"
    }
   ],
   "source": [
    "berlin_walking_maps[2]"
   ]
  },
  {
   "cell_type": "code",
   "execution_count": 74,
   "id": "4a874a35",
   "metadata": {},
   "outputs": [
    {
     "data": {
      "application/vnd.jupyter.widget-view+json": {
       "model_id": "9b6315a509264a708b4331c6509512e5",
       "version_major": 2,
       "version_minor": 0
      },
      "text/plain": [
       "MapView(layout=Layout(height='400px', width='100%'))"
      ]
     },
     "metadata": {},
     "output_type": "display_data"
    },
    {
     "data": {
      "text/html": [
       "<div class=\"map-static-img-preview-dbdb493e-45bc-42e5-8bd1-8185450f3ffd\"><img src=\"\"></img></div>"
      ],
      "text/plain": [
       "<IPython.core.display.HTML object>"
      ]
     },
     "metadata": {},
     "output_type": "display_data"
    },
    {
     "data": {
      "text/html": [
       "<div class=\"map-html-embed-preview-dbdb493e-45bc-42e5-8bd1-8185450f3ffd\"></div>"
      ],
      "text/plain": [
       "<IPython.core.display.HTML object>"
      ]
     },
     "metadata": {},
     "output_type": "display_data"
    }
   ],
   "source": [
    "berlin_walking_maps[3]"
   ]
  },
  {
   "cell_type": "code",
   "execution_count": 75,
   "id": "21b23d32",
   "metadata": {},
   "outputs": [
    {
     "data": {
      "application/vnd.jupyter.widget-view+json": {
       "model_id": "005ad72c09d74888ad656fa2e9d9ebf5",
       "version_major": 2,
       "version_minor": 0
      },
      "text/plain": [
       "MapView(layout=Layout(height='400px', width='100%'))"
      ]
     },
     "metadata": {},
     "output_type": "display_data"
    },
    {
     "data": {
      "text/html": [
       "<div class=\"map-static-img-preview-aead21cf-3e0a-4807-9fa2-0f7cbe6e0788\"><img src=\"\"></img></div>"
      ],
      "text/plain": [
       "<IPython.core.display.HTML object>"
      ]
     },
     "metadata": {},
     "output_type": "display_data"
    },
    {
     "data": {
      "text/html": [
       "<div class=\"map-html-embed-preview-aead21cf-3e0a-4807-9fa2-0f7cbe6e0788\"></div>"
      ],
      "text/plain": [
       "<IPython.core.display.HTML object>"
      ]
     },
     "metadata": {},
     "output_type": "display_data"
    }
   ],
   "source": [
    "berlin_walking_maps[4]"
   ]
  }
 ],
 "metadata": {
  "kernelspec": {
   "display_name": "Python 3 (ipykernel)",
   "language": "python",
   "name": "python3"
  },
  "language_info": {
   "codemirror_mode": {
    "name": "ipython",
    "version": 3
   },
   "file_extension": ".py",
   "mimetype": "text/x-python",
   "name": "python",
   "nbconvert_exporter": "python",
   "pygments_lexer": "ipython3",
   "version": "3.9.15"
  }
 },
 "nbformat": 4,
 "nbformat_minor": 5
}
