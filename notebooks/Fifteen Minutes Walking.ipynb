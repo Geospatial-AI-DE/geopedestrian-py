{
 "cells": [
  {
   "cell_type": "markdown",
   "id": "0b3f3697",
   "metadata": {},
   "source": [
    "# Fifteen minutes walking for urban city planning\n",
    "To create a 15-minute city, urban planners need to address a variety of place categories to ensure that all essential services and amenities are within easy reach."
   ]
  },
  {
   "cell_type": "code",
   "execution_count": 16,
   "id": "990520d9",
   "metadata": {},
   "outputs": [],
   "source": [
    "from arcgis.gis import GIS\n",
    "from arcgis.features import FeatureSet\n",
    "from arcgis.geometry.functions import project\n",
    "from geopedestrian.categories import CategoryRegistry\n",
    "from geopedestrian.services import analyze_walking\n",
    "from georapid.client import GeoRapidClient\n",
    "from georapid.factory import EnvironmentClientFactory"
   ]
  },
  {
   "cell_type": "markdown",
   "id": "90d7ccaa",
   "metadata": {},
   "source": [
    "The `host` variable stores the URL for the geopedestrian API hosted on RapidAPI. This URL is used to connect to the GeoPedestrian services.\n",
    "\n",
    "The `client` variable creates an instance of the `GeoRapidClient` using the `EnvironmentClientFactory`. The `create_client_with_host` method takes the host URL as an argument and returns a client instance for interacting with the geopedestrian API."
   ]
  },
  {
   "cell_type": "code",
   "execution_count": 3,
   "id": "9bf1182c",
   "metadata": {},
   "outputs": [],
   "source": [
    "host = 'geopedestrian.p.rapidapi.com'\n",
    "client: GeoRapidClient = EnvironmentClientFactory.create_client_with_host(host)"
   ]
  },
  {
   "cell_type": "markdown",
   "id": "53dad989",
   "metadata": {},
   "source": [
    "This function plots the result of a 15-minute walking analysis using the specified map view. The map view must be fully initialized before calling this function."
   ]
  },
  {
   "cell_type": "code",
   "execution_count": 39,
   "id": "dbc8cce1",
   "metadata": {},
   "outputs": [],
   "source": [
    "def plot_urban_walking(map_view, client: GeoRapidClient, category_id: int):\n",
    "    \"\"\"\n",
    "    Plots the 15 minutes walking analysis result using the specified map view.\n",
    "    The map view must be fully initialized.\n",
    "    \n",
    "    :param map_view: The map view defining the area of interest.\n",
    "    :param client: The authenticated client instance for Rapid API.\n",
    "    :param category_id: The places category of interest.\n",
    "    :return: Returns the analysis result as a spatially-enabled dataframe.\n",
    "    \"\"\"\n",
    "    # Project the map view center to WGS84\n",
    "    spatial_reference = map_view.center['spatialReference']\n",
    "    in_sr = spatial_reference['wkid']\n",
    "    out_sr = 4326\n",
    "    project_result = project([map_view.center], in_sr, out_sr)\n",
    "    location = project_result[0]\n",
    "    lat, lon = location.y, location.x\n",
    "    \n",
    "    # Analyze the 15 minutes walking areas\n",
    "    analysis_result = analyze_walking(client, lat, lon, category_id)\n",
    "    analysis_sdf = FeatureSet.from_geojson(analysis_result).sdf\n",
    "    analysis_sdf.spatial.plot(map_view, renderer_type='u', col='hits', cmap='YlGn', alpha=0.35)\n",
    "    map_view.zoom_to_layer(analysis_sdf)\n",
    "    return analysis_sdf"
   ]
  },
  {
   "cell_type": "markdown",
   "id": "a7de42fa",
   "metadata": {},
   "source": [
    "## Define the categories of interest\n",
    "This line of code creates an instance of the `CategoryRegistry` class and assigns it to the `category_registry` variable. The `CategoryRegistry` instance can be used to manage and access different categories of places for the 15-minute city analysis."
   ]
  },
  {
   "cell_type": "code",
   "execution_count": 7,
   "id": "53833da1",
   "metadata": {},
   "outputs": [],
   "source": [
    "category_registry = CategoryRegistry()"
   ]
  },
  {
   "cell_type": "markdown",
   "id": "949c95db",
   "metadata": {},
   "source": [
    "This line of code searches the `CategoryRegistry` instance for the category ID corresponding to the category name \"Museum\". The resulting ID is then assigned to the museum_id variable. This ID can be used in subsequent analysis or API calls to identify places related to museums."
   ]
  },
  {
   "cell_type": "code",
   "execution_count": 38,
   "id": "3c5bb823",
   "metadata": {},
   "outputs": [],
   "source": [
    "museum_id = category_registry.find_id('Museum')"
   ]
  },
  {
   "cell_type": "markdown",
   "id": "b2447c24",
   "metadata": {},
   "source": [
    "## Visualize the 15 minutes walking scenarios for various cities"
   ]
  },
  {
   "cell_type": "code",
   "execution_count": 9,
   "id": "5965c2c1",
   "metadata": {},
   "outputs": [],
   "source": [
    "gis = GIS()"
   ]
  },
  {
   "cell_type": "code",
   "execution_count": 10,
   "id": "7c368198",
   "metadata": {},
   "outputs": [],
   "source": [
    "def create_map_view(gis, named_location):\n",
    "    map_view = gis.map(named_location)\n",
    "    map_view.basemap = 'osm'\n",
    "    return map_view"
   ]
  },
  {
   "cell_type": "code",
   "execution_count": 40,
   "id": "b71dd637",
   "metadata": {},
   "outputs": [
    {
     "data": {
      "application/vnd.jupyter.widget-view+json": {
       "model_id": "1d474ba01dfd4faba75ded7032102055",
       "version_major": 2,
       "version_minor": 0
      },
      "text/plain": [
       "MapView(layout=Layout(height='400px', width='100%'))"
      ]
     },
     "metadata": {},
     "output_type": "display_data"
    },
    {
     "data": {
      "text/html": [
       "<div class=\"map-static-img-preview-fb8a8a60-29f8-4f21-9d67-fa048c3b38fc\"><img src=\"\"></img></div>"
      ],
      "text/plain": [
       "<IPython.core.display.HTML object>"
      ]
     },
     "metadata": {},
     "output_type": "display_data"
    },
    {
     "data": {
      "text/html": [
       "<div class=\"map-html-embed-preview-fb8a8a60-29f8-4f21-9d67-fa048c3b38fc\"></div>"
      ],
      "text/plain": [
       "<IPython.core.display.HTML object>"
      ]
     },
     "metadata": {},
     "output_type": "display_data"
    }
   ],
   "source": [
    "paris_map = create_map_view(gis, 'Paris, France')\n",
    "paris_map"
   ]
  },
  {
   "cell_type": "code",
   "execution_count": 41,
   "id": "5bf23192",
   "metadata": {},
   "outputs": [
    {
     "data": {
      "text/html": [
       "<div>\n",
       "<style scoped>\n",
       "    .dataframe tbody tr th:only-of-type {\n",
       "        vertical-align: middle;\n",
       "    }\n",
       "\n",
       "    .dataframe tbody tr th {\n",
       "        vertical-align: top;\n",
       "    }\n",
       "\n",
       "    .dataframe thead th {\n",
       "        text-align: right;\n",
       "    }\n",
       "</style>\n",
       "<table border=\"1\" class=\"dataframe\">\n",
       "  <thead>\n",
       "    <tr style=\"text-align: right;\">\n",
       "      <th></th>\n",
       "      <th>hits</th>\n",
       "      <th>OBJECTID</th>\n",
       "      <th>SHAPE</th>\n",
       "    </tr>\n",
       "  </thead>\n",
       "  <tbody>\n",
       "    <tr>\n",
       "      <th>0</th>\n",
       "      <td>1</td>\n",
       "      <td>1</td>\n",
       "      <td>{\"rings\": [[[2.3549608912799354, 48.8545387117...</td>\n",
       "    </tr>\n",
       "    <tr>\n",
       "      <th>1</th>\n",
       "      <td>1</td>\n",
       "      <td>2</td>\n",
       "      <td>{\"rings\": [[[2.3549608912799354, 48.8607445322...</td>\n",
       "    </tr>\n",
       "    <tr>\n",
       "      <th>2</th>\n",
       "      <td>1</td>\n",
       "      <td>3</td>\n",
       "      <td>{\"rings\": [[[2.3549608912799354, 48.8660631946...</td>\n",
       "    </tr>\n",
       "    <tr>\n",
       "      <th>3</th>\n",
       "      <td>1</td>\n",
       "      <td>4</td>\n",
       "      <td>{\"rings\": [[[2.3561278370649186, 48.8603012848...</td>\n",
       "    </tr>\n",
       "    <tr>\n",
       "      <th>4</th>\n",
       "      <td>1</td>\n",
       "      <td>5</td>\n",
       "      <td>{\"rings\": [[[2.3607956202048506, 48.8567551645...</td>\n",
       "    </tr>\n",
       "    <tr>\n",
       "      <th>5</th>\n",
       "      <td>1</td>\n",
       "      <td>6</td>\n",
       "      <td>{\"rings\": [[[2.3607956202048506, 48.8585282561...</td>\n",
       "    </tr>\n",
       "    <tr>\n",
       "      <th>6</th>\n",
       "      <td>1</td>\n",
       "      <td>7</td>\n",
       "      <td>{\"rings\": [[[2.3619625659898333, 48.8598580335...</td>\n",
       "    </tr>\n",
       "    <tr>\n",
       "      <th>7</th>\n",
       "      <td>1</td>\n",
       "      <td>8</td>\n",
       "      <td>{\"rings\": [[[2.3666303491297653, 48.8589715192...</td>\n",
       "    </tr>\n",
       "  </tbody>\n",
       "</table>\n",
       "</div>"
      ],
      "text/plain": [
       "  hits  OBJECTID                                              SHAPE\n",
       "0    1         1  {\"rings\": [[[2.3549608912799354, 48.8545387117...\n",
       "1    1         2  {\"rings\": [[[2.3549608912799354, 48.8607445322...\n",
       "2    1         3  {\"rings\": [[[2.3549608912799354, 48.8660631946...\n",
       "3    1         4  {\"rings\": [[[2.3561278370649186, 48.8603012848...\n",
       "4    1         5  {\"rings\": [[[2.3607956202048506, 48.8567551645...\n",
       "5    1         6  {\"rings\": [[[2.3607956202048506, 48.8585282561...\n",
       "6    1         7  {\"rings\": [[[2.3619625659898333, 48.8598580335...\n",
       "7    1         8  {\"rings\": [[[2.3666303491297653, 48.8589715192..."
      ]
     },
     "execution_count": 41,
     "metadata": {},
     "output_type": "execute_result"
    }
   ],
   "source": [
    "plot_urban_walking(paris_map, client, museum_id)"
   ]
  },
  {
   "cell_type": "code",
   "execution_count": null,
   "id": "e05796df",
   "metadata": {},
   "outputs": [],
   "source": []
  }
 ],
 "metadata": {
  "kernelspec": {
   "display_name": "Python 3 (ipykernel)",
   "language": "python",
   "name": "python3"
  },
  "language_info": {
   "codemirror_mode": {
    "name": "ipython",
    "version": 3
   },
   "file_extension": ".py",
   "mimetype": "text/x-python",
   "name": "python",
   "nbconvert_exporter": "python",
   "pygments_lexer": "ipython3",
   "version": "3.9.15"
  }
 },
 "nbformat": 4,
 "nbformat_minor": 5
}
