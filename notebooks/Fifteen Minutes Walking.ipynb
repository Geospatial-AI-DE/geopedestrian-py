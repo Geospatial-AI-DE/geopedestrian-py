{
 "cells": [
  {
   "cell_type": "markdown",
   "id": "0b3f3697",
   "metadata": {},
   "source": [
    "# Fifteen minutes walking for urban city planning\n",
    "To create a 15-minute city, urban planners need to address a variety of place categories to ensure that all essential services and amenities are within easy reach."
   ]
  },
  {
   "cell_type": "code",
   "execution_count": 28,
   "id": "990520d9",
   "metadata": {},
   "outputs": [],
   "source": [
    "from arcgis.gis import GIS\n",
    "from arcgis.features import FeatureSet\n",
    "from arcgis.geometry.functions import project\n",
    "from geopedestrian.categories import CategoryRegistry\n",
    "from geopedestrian.services import analyze_walking\n",
    "from georapid.client import GeoRapidClient\n",
    "from georapid.factory import EnvironmentClientFactory\n",
    "from ipywidgets import HBox, Layout"
   ]
  },
  {
   "cell_type": "markdown",
   "id": "90d7ccaa",
   "metadata": {},
   "source": [
    "The `host` variable stores the URL for the geopedestrian API hosted on RapidAPI. This URL is used to connect to the GeoPedestrian services.\n",
    "\n",
    "The `client` variable creates an instance of the `GeoRapidClient` using the `EnvironmentClientFactory`. The `create_client_with_host` method takes the host URL as an argument and returns a client instance for interacting with the geopedestrian API."
   ]
  },
  {
   "cell_type": "code",
   "execution_count": 29,
   "id": "9bf1182c",
   "metadata": {},
   "outputs": [],
   "source": [
    "host = 'geopedestrian.p.rapidapi.com'\n",
    "client: GeoRapidClient = EnvironmentClientFactory.create_client_with_host(host)"
   ]
  },
  {
   "cell_type": "markdown",
   "id": "53dad989",
   "metadata": {},
   "source": [
    "This function plots the result of a 15-minute walking analysis using the specified map view. The map view must be fully initialized before calling this function."
   ]
  },
  {
   "cell_type": "code",
   "execution_count": 30,
   "id": "dbc8cce1",
   "metadata": {},
   "outputs": [],
   "source": [
    "def plot_urban_walking(map_view, client: GeoRapidClient, category_id: int):\n",
    "    \"\"\"\n",
    "    Plots the 15 minutes walking analysis result using the specified map view.\n",
    "    The map view must be fully initialized.\n",
    "    \n",
    "    :param map_view: The map view defining the area of interest.\n",
    "    :param client: The authenticated client instance for Rapid API.\n",
    "    :param category_id: The places category of interest.\n",
    "    :return: Returns the analysis result as a spatially-enabled dataframe.\n",
    "    \"\"\"\n",
    "    # Project the map view center to WGS84\n",
    "    spatial_reference = map_view.center['spatialReference']\n",
    "    in_sr = spatial_reference['wkid']\n",
    "    out_sr = 4326\n",
    "    project_result = project([map_view.center], in_sr, out_sr)\n",
    "    location = project_result[0]\n",
    "    lat, lon = location.y, location.x\n",
    "    \n",
    "    # Analyze the 15 minutes walking areas\n",
    "    analysis_result = analyze_walking(client, lat, lon, category_id)\n",
    "    analysis_sdf = FeatureSet.from_geojson(analysis_result).sdf\n",
    "    analysis_sdf.spatial.plot(map_view, renderer_type='u', col='hits', cmap='YlGn', alpha=0.35)\n",
    "    map_view.zoom_to_layer(analysis_sdf)\n",
    "    return analysis_sdf"
   ]
  },
  {
   "cell_type": "markdown",
   "id": "a7de42fa",
   "metadata": {},
   "source": [
    "## Define the categories of interest\n",
    "This line of code creates an instance of the `CategoryRegistry` class and assigns it to the `category_registry` variable. The `CategoryRegistry` instance can be used to manage and access different categories of places for the 15-minute city analysis."
   ]
  },
  {
   "cell_type": "code",
   "execution_count": 31,
   "id": "53833da1",
   "metadata": {},
   "outputs": [],
   "source": [
    "category_registry = CategoryRegistry()"
   ]
  },
  {
   "cell_type": "markdown",
   "id": "949c95db",
   "metadata": {},
   "source": [
    "This line of code searches the `CategoryRegistry` instance for the category ID corresponding to the category name \"Museum\". The resulting ID is then assigned to the museum_id variable. This ID can be used in subsequent analysis or API calls to identify places related to museums."
   ]
  },
  {
   "cell_type": "code",
   "execution_count": 32,
   "id": "3c5bb823",
   "metadata": {},
   "outputs": [],
   "source": [
    "museum_id = category_registry.find_id('Museum')\n",
    "school_id = category_registry.find_id('Primary and Secondary School')\n",
    "university_id = category_registry.find_id('College and University')\n",
    "restaurant_id = category_registry.find_id('Restaurant')\n",
    "cafe_id = category_registry.find_id('Cafe')\n",
    "bar_id = category_registry.find_id('Bar')\n",
    "park_id = category_registry.find_id('Park')\n",
    "sports_id = category_registry.find_id('Sports Club')\n",
    "residential_id = category_registry.find_id('Residential Building')\n",
    "office_id = category_registry.find_id('Office')\n",
    "retail_id = category_registry.find_id('Retail')\n",
    "transport_id = category_registry.find_id('Transport Hub')"
   ]
  },
  {
   "cell_type": "markdown",
   "id": "b2447c24",
   "metadata": {},
   "source": [
    "## Visualize the 15 minutes walking scenarios for various cities"
   ]
  },
  {
   "cell_type": "code",
   "execution_count": 33,
   "id": "5965c2c1",
   "metadata": {},
   "outputs": [],
   "source": [
    "gis = GIS()"
   ]
  },
  {
   "cell_type": "code",
   "execution_count": 34,
   "id": "7c368198",
   "metadata": {},
   "outputs": [],
   "source": [
    "def create_map_view(gis, named_location):\n",
    "    map_view = gis.map(named_location)\n",
    "    map_view.basemap = 'osm'\n",
    "    return map_view\n",
    "\n",
    "def display_two_map_views(left_map_view, right_map_view):\n",
    "    left_map_view.layout=Layout(flex='1 1', padding='6px', height='450px')\n",
    "    right_map_view.layout=Layout(flex='1 1', padding='6px', height='450px')\n",
    "\n",
    "    return HBox([left_map_view, right_map_view])"
   ]
  },
  {
   "cell_type": "code",
   "execution_count": 35,
   "id": "b71dd637",
   "metadata": {},
   "outputs": [
    {
     "data": {
      "application/vnd.jupyter.widget-view+json": {
       "model_id": "edb5d8223b6c43c0a4f871840b994ee7",
       "version_major": 2,
       "version_minor": 0
      },
      "text/plain": [
       "MapView(layout=Layout(height='400px', width='100%'))"
      ]
     },
     "metadata": {},
     "output_type": "display_data"
    },
    {
     "data": {
      "text/html": [
       "<div class=\"map-static-img-preview-af6b50df-5583-4db4-9d64-6b1c3382a608\"><img src=\"\"></img></div>"
      ],
      "text/plain": [
       "<IPython.core.display.HTML object>"
      ]
     },
     "metadata": {},
     "output_type": "display_data"
    },
    {
     "data": {
      "text/html": [
       "<div class=\"map-html-embed-preview-af6b50df-5583-4db4-9d64-6b1c3382a608\"></div>"
      ],
      "text/plain": [
       "<IPython.core.display.HTML object>"
      ]
     },
     "metadata": {},
     "output_type": "display_data"
    }
   ],
   "source": [
    "paris_map = create_map_view(gis, 'Paris, France')\n",
    "paris_map"
   ]
  },
  {
   "cell_type": "code",
   "execution_count": 36,
   "id": "5bf23192",
   "metadata": {},
   "outputs": [
    {
     "data": {
      "text/html": [
       "<div>\n",
       "<style scoped>\n",
       "    .dataframe tbody tr th:only-of-type {\n",
       "        vertical-align: middle;\n",
       "    }\n",
       "\n",
       "    .dataframe tbody tr th {\n",
       "        vertical-align: top;\n",
       "    }\n",
       "\n",
       "    .dataframe thead th {\n",
       "        text-align: right;\n",
       "    }\n",
       "</style>\n",
       "<table border=\"1\" class=\"dataframe\">\n",
       "  <thead>\n",
       "    <tr style=\"text-align: right;\">\n",
       "      <th></th>\n",
       "      <th>hits</th>\n",
       "      <th>OBJECTID</th>\n",
       "      <th>SHAPE</th>\n",
       "    </tr>\n",
       "  </thead>\n",
       "  <tbody>\n",
       "    <tr>\n",
       "      <th>0</th>\n",
       "      <td>1</td>\n",
       "      <td>1</td>\n",
       "      <td>{\"rings\": [[[2.3549608912799354, 48.8545387117...</td>\n",
       "    </tr>\n",
       "    <tr>\n",
       "      <th>1</th>\n",
       "      <td>1</td>\n",
       "      <td>2</td>\n",
       "      <td>{\"rings\": [[[2.3549608912799354, 48.8607445322...</td>\n",
       "    </tr>\n",
       "    <tr>\n",
       "      <th>2</th>\n",
       "      <td>1</td>\n",
       "      <td>3</td>\n",
       "      <td>{\"rings\": [[[2.3549608912799354, 48.8660631946...</td>\n",
       "    </tr>\n",
       "    <tr>\n",
       "      <th>3</th>\n",
       "      <td>1</td>\n",
       "      <td>4</td>\n",
       "      <td>{\"rings\": [[[2.3561278370649186, 48.8603012848...</td>\n",
       "    </tr>\n",
       "    <tr>\n",
       "      <th>4</th>\n",
       "      <td>1</td>\n",
       "      <td>5</td>\n",
       "      <td>{\"rings\": [[[2.3607956202048506, 48.8567551645...</td>\n",
       "    </tr>\n",
       "    <tr>\n",
       "      <th>5</th>\n",
       "      <td>1</td>\n",
       "      <td>6</td>\n",
       "      <td>{\"rings\": [[[2.3607956202048506, 48.8585282561...</td>\n",
       "    </tr>\n",
       "    <tr>\n",
       "      <th>6</th>\n",
       "      <td>1</td>\n",
       "      <td>7</td>\n",
       "      <td>{\"rings\": [[[2.3619625659898333, 48.8598580335...</td>\n",
       "    </tr>\n",
       "    <tr>\n",
       "      <th>7</th>\n",
       "      <td>1</td>\n",
       "      <td>8</td>\n",
       "      <td>{\"rings\": [[[2.3666303491297653, 48.8589715192...</td>\n",
       "    </tr>\n",
       "  </tbody>\n",
       "</table>\n",
       "</div>"
      ],
      "text/plain": [
       "  hits  OBJECTID                                              SHAPE\n",
       "0    1         1  {\"rings\": [[[2.3549608912799354, 48.8545387117...\n",
       "1    1         2  {\"rings\": [[[2.3549608912799354, 48.8607445322...\n",
       "2    1         3  {\"rings\": [[[2.3549608912799354, 48.8660631946...\n",
       "3    1         4  {\"rings\": [[[2.3561278370649186, 48.8603012848...\n",
       "4    1         5  {\"rings\": [[[2.3607956202048506, 48.8567551645...\n",
       "5    1         6  {\"rings\": [[[2.3607956202048506, 48.8585282561...\n",
       "6    1         7  {\"rings\": [[[2.3619625659898333, 48.8598580335...\n",
       "7    1         8  {\"rings\": [[[2.3666303491297653, 48.8589715192..."
      ]
     },
     "execution_count": 36,
     "metadata": {},
     "output_type": "execute_result"
    }
   ],
   "source": [
    "plot_urban_walking(paris_map, client, museum_id)"
   ]
  },
  {
   "cell_type": "code",
   "execution_count": 37,
   "id": "e05796df",
   "metadata": {},
   "outputs": [
    {
     "data": {
      "application/vnd.jupyter.widget-view+json": {
       "model_id": "b1e2a9b4c39d486e9c0fb569bd7fbc71",
       "version_major": 2,
       "version_minor": 0
      },
      "text/plain": [
       "MapView(layout=Layout(height='400px', width='100%'))"
      ]
     },
     "metadata": {},
     "output_type": "display_data"
    },
    {
     "data": {
      "text/html": [
       "<div class=\"map-static-img-preview-67692663-b192-4d71-8ebc-7e2bd424b304\"><img src=\"\"></img></div>"
      ],
      "text/plain": [
       "<IPython.core.display.HTML object>"
      ]
     },
     "metadata": {},
     "output_type": "display_data"
    },
    {
     "data": {
      "text/html": [
       "<div class=\"map-html-embed-preview-67692663-b192-4d71-8ebc-7e2bd424b304\"></div>"
      ],
      "text/plain": [
       "<IPython.core.display.HTML object>"
      ]
     },
     "metadata": {},
     "output_type": "display_data"
    }
   ],
   "source": [
    "barcelona_map = create_map_view(gis, 'Barcelona, Spain')\n",
    "barcelona_map"
   ]
  },
  {
   "cell_type": "code",
   "execution_count": 38,
   "id": "d314d80e",
   "metadata": {},
   "outputs": [
    {
     "data": {
      "text/html": [
       "<div>\n",
       "<style scoped>\n",
       "    .dataframe tbody tr th:only-of-type {\n",
       "        vertical-align: middle;\n",
       "    }\n",
       "\n",
       "    .dataframe tbody tr th {\n",
       "        vertical-align: top;\n",
       "    }\n",
       "\n",
       "    .dataframe thead th {\n",
       "        text-align: right;\n",
       "    }\n",
       "</style>\n",
       "<table border=\"1\" class=\"dataframe\">\n",
       "  <thead>\n",
       "    <tr style=\"text-align: right;\">\n",
       "      <th></th>\n",
       "      <th>hits</th>\n",
       "      <th>OBJECTID</th>\n",
       "      <th>SHAPE</th>\n",
       "    </tr>\n",
       "  </thead>\n",
       "  <tbody>\n",
       "    <tr>\n",
       "      <th>0</th>\n",
       "      <td>1</td>\n",
       "      <td>1</td>\n",
       "      <td>{\"rings\": [[[2.15837150178505, 41.395660534716...</td>\n",
       "    </tr>\n",
       "    <tr>\n",
       "      <th>1</th>\n",
       "      <td>1</td>\n",
       "      <td>2</td>\n",
       "      <td>{\"rings\": [[[2.1607053933550167, 41.3956605347...</td>\n",
       "    </tr>\n",
       "    <tr>\n",
       "      <th>2</th>\n",
       "      <td>1</td>\n",
       "      <td>3</td>\n",
       "      <td>{\"rings\": [[[2.1642062307099654, 41.3931334309...</td>\n",
       "    </tr>\n",
       "    <tr>\n",
       "      <th>3</th>\n",
       "      <td>1</td>\n",
       "      <td>4</td>\n",
       "      <td>{\"rings\": [[[2.1700409596348806, 41.3804964386...</td>\n",
       "    </tr>\n",
       "    <tr>\n",
       "      <th>4</th>\n",
       "      <td>1</td>\n",
       "      <td>5</td>\n",
       "      <td>{\"rings\": [[[2.1723748512048466, 41.3825185224...</td>\n",
       "    </tr>\n",
       "    <tr>\n",
       "      <th>5</th>\n",
       "      <td>1</td>\n",
       "      <td>6</td>\n",
       "      <td>{\"rings\": [[[2.175875688559796, 41.38201300738...</td>\n",
       "    </tr>\n",
       "    <tr>\n",
       "      <th>6</th>\n",
       "      <td>1</td>\n",
       "      <td>7</td>\n",
       "      <td>{\"rings\": [[[2.175875688559796, 41.38403504405...</td>\n",
       "    </tr>\n",
       "    <tr>\n",
       "      <th>7</th>\n",
       "      <td>1</td>\n",
       "      <td>8</td>\n",
       "      <td>{\"rings\": [[[2.1770426343447786, 41.3835295407...</td>\n",
       "    </tr>\n",
       "    <tr>\n",
       "      <th>8</th>\n",
       "      <td>1</td>\n",
       "      <td>9</td>\n",
       "      <td>{\"rings\": [[[2.1782095801297614, 41.3810019654...</td>\n",
       "    </tr>\n",
       "  </tbody>\n",
       "</table>\n",
       "</div>"
      ],
      "text/plain": [
       "  hits  OBJECTID                                              SHAPE\n",
       "0    1         1  {\"rings\": [[[2.15837150178505, 41.395660534716...\n",
       "1    1         2  {\"rings\": [[[2.1607053933550167, 41.3956605347...\n",
       "2    1         3  {\"rings\": [[[2.1642062307099654, 41.3931334309...\n",
       "3    1         4  {\"rings\": [[[2.1700409596348806, 41.3804964386...\n",
       "4    1         5  {\"rings\": [[[2.1723748512048466, 41.3825185224...\n",
       "5    1         6  {\"rings\": [[[2.175875688559796, 41.38201300738...\n",
       "6    1         7  {\"rings\": [[[2.175875688559796, 41.38403504405...\n",
       "7    1         8  {\"rings\": [[[2.1770426343447786, 41.3835295407...\n",
       "8    1         9  {\"rings\": [[[2.1782095801297614, 41.3810019654..."
      ]
     },
     "execution_count": 38,
     "metadata": {},
     "output_type": "execute_result"
    }
   ],
   "source": [
    "plot_urban_walking(barcelona_map, client, museum_id)"
   ]
  },
  {
   "cell_type": "code",
   "execution_count": 39,
   "id": "44284c11",
   "metadata": {
    "scrolled": false
   },
   "outputs": [
    {
     "data": {
      "application/vnd.jupyter.widget-view+json": {
       "model_id": "ba95bf89580d431a90789a8829a8d327",
       "version_major": 2,
       "version_minor": 0
      },
      "text/plain": [
       "HBox(children=(MapView(jupyter_target='notebook', layout=Layout(flex='1 1', height='450px', padding='6px'), re…"
      ]
     },
     "metadata": {},
     "output_type": "display_data"
    }
   ],
   "source": [
    "display_two_map_views(paris_map, barcelona_map)"
   ]
  },
  {
   "cell_type": "code",
   "execution_count": null,
   "id": "43ae1251",
   "metadata": {},
   "outputs": [],
   "source": []
  }
 ],
 "metadata": {
  "kernelspec": {
   "display_name": "Python 3 (ipykernel)",
   "language": "python",
   "name": "python3"
  },
  "language_info": {
   "codemirror_mode": {
    "name": "ipython",
    "version": 3
   },
   "file_extension": ".py",
   "mimetype": "text/x-python",
   "name": "python",
   "nbconvert_exporter": "python",
   "pygments_lexer": "ipython3",
   "version": "3.9.15"
  }
 },
 "nbformat": 4,
 "nbformat_minor": 5
}
