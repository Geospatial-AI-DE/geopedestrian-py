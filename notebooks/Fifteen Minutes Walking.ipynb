{
 "cells": [
  {
   "cell_type": "markdown",
   "id": "0b3f3697",
   "metadata": {},
   "source": [
    "# Fifteen minutes walking for urban city planning\n",
    "To create a 15-minute city, urban planners need to address a variety of place categories to ensure that all essential services and amenities are within easy reach."
   ]
  },
  {
   "cell_type": "code",
   "execution_count": 1,
   "id": "990520d9",
   "metadata": {},
   "outputs": [],
   "source": [
    "from arcgis.gis import GIS\n",
    "from arcgis.features import FeatureSet\n",
    "from arcgis.geometry.functions import project\n",
    "from geopedestrian.categories import CategoryRegistry\n",
    "from geopedestrian.services import analyze_walking, solve_walking, walk_to\n",
    "from georapid.client import GeoRapidClient\n",
    "from georapid.factory import EnvironmentClientFactory\n",
    "from ipywidgets import HBox, Layout"
   ]
  },
  {
   "cell_type": "markdown",
   "id": "90d7ccaa",
   "metadata": {},
   "source": [
    "The `host` variable stores the URL for the geopedestrian API hosted on RapidAPI. This URL is used to connect to the GeoPedestrian services.\n",
    "\n",
    "The `client` variable creates an instance of the `GeoRapidClient` using the `EnvironmentClientFactory`. The `create_client_with_host` method takes the host URL as an argument and returns a client instance for interacting with the geopedestrian API."
   ]
  },
  {
   "cell_type": "code",
   "execution_count": 2,
   "id": "9bf1182c",
   "metadata": {},
   "outputs": [],
   "source": [
    "host = 'geopedestrian.p.rapidapi.com'\n",
    "client: GeoRapidClient = EnvironmentClientFactory.create_client_with_host(host)"
   ]
  },
  {
   "cell_type": "markdown",
   "id": "53dad989",
   "metadata": {},
   "source": [
    "This function plots the results of a 15-minute walking analysis using the specified map view. The map view must be fully initialized before calling these functions."
   ]
  },
  {
   "cell_type": "code",
   "execution_count": 42,
   "id": "dbc8cce1",
   "metadata": {},
   "outputs": [],
   "source": [
    "def plot_walking_areas(map_view, client: GeoRapidClient):\n",
    "    \"\"\"\n",
    "    Plots walking areas which are accessible by pedestrians using the specified map view.\n",
    "    \n",
    "    :param map_view: The map view defining the area of interest.\n",
    "    :param client: The authenticated client instance for Rapid API.\n",
    "    :return: Returns the walking areas as a spatially-enabled dataframe.\n",
    "    \"\"\"\n",
    "    lat, lon = project_center(map_view)\n",
    "    \n",
    "    # Solve the walking areas\n",
    "    walking_result = solve_walking(client, lat, lon)\n",
    "    walking_areas_sdf = FeatureSet.from_geojson(walking_result).sdf\n",
    "    walking_areas_sdf.spatial.plot(map_view, renderer_type='u', col='ToBreak', cmap='RdYlGn', alpha=0.35)\n",
    "    map_view.zoom_to_layer(walking_areas_sdf)\n",
    "    return walking_areas_sdf\n",
    "\n",
    "def plot_walking_routes(map_view, client: GeoRapidClient, category_id: int):\n",
    "    \"\"\"\n",
    "    Plots walking routes to places which are accessible by pedestrians using the specified map view.\n",
    "    \n",
    "    :param map_view: The map view defining the area of interest.\n",
    "    :param client: The authenticated client instance for Rapid API.\n",
    "    :param category_id: The places category of interest.\n",
    "    :return: Returns the walking routes as a spatially-enabled dataframe.\n",
    "    \"\"\"\n",
    "    lat, lon = project_center(map_view)\n",
    "    \n",
    "    # Solve the walking routes\n",
    "    walking_result = walk_to(client, lat, lon, category_id)\n",
    "    routes_geojson = walking_result['routes']\n",
    "    routes_sdf = FeatureSet.from_geojson(routes_geojson).sdf\n",
    "    routes_sdf.spatial.plot(map_view, renderer_type='s', palette=[0, 120, 0, 130], line_width=15)\n",
    "    map_view.zoom_to_layer(routes_sdf)\n",
    "    return routes_sdf\n",
    "\n",
    "def plot_places_nearby(map_view, client: GeoRapidClient, category_id: int):\n",
    "    \"\"\"\n",
    "    Plots places which are accessible by pedestrians using the specified map view.\n",
    "    \n",
    "    :param map_view: The map view defining the area of interest.\n",
    "    :param client: The authenticated client instance for Rapid API.\n",
    "    :param category_id: The places category of interest.\n",
    "    :return: Returns the places as a spatially-enabled dataframe.\n",
    "    \"\"\"\n",
    "    lat, lon = project_center(map_view)\n",
    "    \n",
    "    # Solve the walking routes\n",
    "    walking_result = walk_to(client, lat, lon, category_id)\n",
    "    places_geojson = walking_result['places']\n",
    "    places_sdf = FeatureSet.from_geojson(places_geojson).sdf\n",
    "    places_sdf.spatial.plot(map_view)\n",
    "    map_view.zoom_to_layer(places_sdf)\n",
    "    return places_sdf\n",
    "\n",
    "def plot_urban_walking(map_view, client: GeoRapidClient, category_id: int):\n",
    "    \"\"\"\n",
    "    Plots the 15 minutes walking analysis result using the specified map view.\n",
    "    The map view must be fully initialized.\n",
    "    \n",
    "    :param map_view: The map view defining the area of interest.\n",
    "    :param client: The authenticated client instance for Rapid API.\n",
    "    :param category_id: The places category of interest.\n",
    "    :return: Returns the analysis result as a spatially-enabled dataframe.\n",
    "    \"\"\"\n",
    "    lat, lon = project_center(map_view)\n",
    "    \n",
    "    # Analyze the 15 minutes walking areas\n",
    "    analysis_sdf = analyze_urban_walking(lat, lon, client, category_id)\n",
    "    analysis_sdf.spatial.plot(map_view, renderer_type='u', col='hits', cmap='YlGn', alpha=0.35)\n",
    "    map_view.zoom_to_layer(analysis_sdf)\n",
    "    return analysis_sdf\n",
    "\n",
    "def analyze_urban_walking(lat: float, lon: float, client: GeoRapidClient, category_id: int):\n",
    "    \"\"\"\n",
    "    Analyzes the 15 minutes walking scenario using the specified location.\n",
    "    \n",
    "    :param lat: The latitude defining the point of interest.\n",
    "    :param lon: The longitude defining the point of interest.\n",
    "    :param client: The authenticated client instance for Rapid API.\n",
    "    :param category_id: The places category of interest.\n",
    "    :return: Returns the analysis result as a spatially-enabled dataframe.\n",
    "    \"\"\"\n",
    "    analysis_result = analyze_walking(client, lat, lon, category_id)\n",
    "    if len(analysis_result['features']) < 1:\n",
    "        return None\n",
    "    \n",
    "    return FeatureSet.from_geojson(analysis_result).sdf\n",
    "\n",
    "def project_center(map_view):\n",
    "    \"\"\"\n",
    "    Projects the center of the map view to WGS84 coordinates.\n",
    "    The map view must be fully initialized.\n",
    "    \n",
    "    :param map_view: The map view defining the area of interest.\n",
    "    :return: Returns the center as a tuple of latitude and longitude.\n",
    "    \"\"\"\n",
    "    # Project the map view center to WGS84\n",
    "    spatial_reference = map_view.center['spatialReference']\n",
    "    in_sr = spatial_reference['wkid']\n",
    "    out_sr = 4326\n",
    "    project_result = project([map_view.center], in_sr, out_sr)\n",
    "    location = project_result[0]\n",
    "    return location.y, location.x"
   ]
  },
  {
   "cell_type": "markdown",
   "id": "a7de42fa",
   "metadata": {},
   "source": [
    "## Define the categories of interest\n",
    "This line of code creates an instance of the `CategoryRegistry` class and assigns it to the `category_registry` variable. The `CategoryRegistry` instance can be used to manage and access different categories of places for the 15-minute city analysis."
   ]
  },
  {
   "cell_type": "code",
   "execution_count": 4,
   "id": "53833da1",
   "metadata": {},
   "outputs": [],
   "source": [
    "category_registry = CategoryRegistry()"
   ]
  },
  {
   "cell_type": "markdown",
   "id": "949c95db",
   "metadata": {},
   "source": [
    "This line of code searches the `CategoryRegistry` instance for the category ID corresponding to the category name \"Museum\". The resulting ID is then assigned to the museum_id variable. This ID can be used in subsequent analysis or API calls to identify places related to museums."
   ]
  },
  {
   "cell_type": "code",
   "execution_count": 5,
   "id": "3c5bb823",
   "metadata": {},
   "outputs": [],
   "source": [
    "museum_id = category_registry.find_id('Museum')\n",
    "school_id = category_registry.find_id('Primary and Secondary School')\n",
    "university_id = category_registry.find_id('College and University')\n",
    "restaurant_id = category_registry.find_id('Restaurant')\n",
    "cafe_id = category_registry.find_id('Cafe')\n",
    "bar_id = category_registry.find_id('Bar')\n",
    "park_id = category_registry.find_id('Park')\n",
    "sports_id = category_registry.find_id('Sports Club')\n",
    "residential_id = category_registry.find_id('Residential Building')\n",
    "office_id = category_registry.find_id('Office')\n",
    "retail_id = category_registry.find_id('Retail')\n",
    "transport_id = category_registry.find_id('Transport Hub')"
   ]
  },
  {
   "cell_type": "markdown",
   "id": "b2447c24",
   "metadata": {},
   "source": [
    "## Visualize the 15 minutes walking scenarios for various cities"
   ]
  },
  {
   "cell_type": "code",
   "execution_count": 6,
   "id": "5965c2c1",
   "metadata": {},
   "outputs": [],
   "source": [
    "gis = GIS()"
   ]
  },
  {
   "cell_type": "code",
   "execution_count": 7,
   "id": "7c368198",
   "metadata": {},
   "outputs": [],
   "source": [
    "def create_map_view(gis, named_location):\n",
    "    map_view = gis.map(named_location)\n",
    "    map_view.basemap = 'osm'\n",
    "    return map_view\n",
    "\n",
    "def display_two_map_views(left_map_view, right_map_view):\n",
    "    left_map_view.layout=Layout(flex='1 1', padding='6px', height='450px')\n",
    "    right_map_view.layout=Layout(flex='1 1', padding='6px', height='450px')\n",
    "\n",
    "    return HBox([left_map_view, right_map_view])"
   ]
  },
  {
   "cell_type": "code",
   "execution_count": 8,
   "id": "b71dd637",
   "metadata": {},
   "outputs": [
    {
     "data": {
      "application/vnd.jupyter.widget-view+json": {
       "model_id": "d2f5e9ae13f64253bb239ee617c50d92",
       "version_major": 2,
       "version_minor": 0
      },
      "text/plain": [
       "MapView(layout=Layout(height='400px', width='100%'))"
      ]
     },
     "metadata": {},
     "output_type": "display_data"
    },
    {
     "data": {
      "text/html": [
       "<div class=\"map-static-img-preview-15165e5c-adef-4cf1-b4c1-e1957d1c4af9\"><img src=\"\"></img></div>"
      ],
      "text/plain": [
       "<IPython.core.display.HTML object>"
      ]
     },
     "metadata": {},
     "output_type": "display_data"
    },
    {
     "data": {
      "text/html": [
       "<div class=\"map-html-embed-preview-15165e5c-adef-4cf1-b4c1-e1957d1c4af9\"></div>"
      ],
      "text/plain": [
       "<IPython.core.display.HTML object>"
      ]
     },
     "metadata": {},
     "output_type": "display_data"
    }
   ],
   "source": [
    "paris_map = create_map_view(gis, 'Paris, France')\n",
    "paris_map"
   ]
  },
  {
   "cell_type": "code",
   "execution_count": 9,
   "id": "4f8f2a00",
   "metadata": {},
   "outputs": [
    {
     "data": {
      "text/html": [
       "<div>\n",
       "<style scoped>\n",
       "    .dataframe tbody tr th:only-of-type {\n",
       "        vertical-align: middle;\n",
       "    }\n",
       "\n",
       "    .dataframe tbody tr th {\n",
       "        vertical-align: top;\n",
       "    }\n",
       "\n",
       "    .dataframe thead th {\n",
       "        text-align: right;\n",
       "    }\n",
       "</style>\n",
       "<table border=\"1\" class=\"dataframe\">\n",
       "  <thead>\n",
       "    <tr style=\"text-align: right;\">\n",
       "      <th></th>\n",
       "      <th>ObjectID</th>\n",
       "      <th>FacilityID</th>\n",
       "      <th>Name</th>\n",
       "      <th>FromBreak</th>\n",
       "      <th>ToBreak</th>\n",
       "      <th>Shape_Length</th>\n",
       "      <th>Shape_Area</th>\n",
       "      <th>SHAPE</th>\n",
       "    </tr>\n",
       "  </thead>\n",
       "  <tbody>\n",
       "    <tr>\n",
       "      <th>0</th>\n",
       "      <td>1</td>\n",
       "      <td>1</td>\n",
       "      <td>Location 1 : 10 - 15</td>\n",
       "      <td>10</td>\n",
       "      <td>15</td>\n",
       "      <td>0.16074544855783407</td>\n",
       "      <td>0.00024655239956060897</td>\n",
       "      <td>{\"rings\": [[[2.361794926000073, 48.87342079400...</td>\n",
       "    </tr>\n",
       "    <tr>\n",
       "      <th>1</th>\n",
       "      <td>2</td>\n",
       "      <td>1</td>\n",
       "      <td>Location 1 : 5 - 10</td>\n",
       "      <td>5</td>\n",
       "      <td>10</td>\n",
       "      <td>0.09336814723855202</td>\n",
       "      <td>0.0001481029247122904</td>\n",
       "      <td>{\"rings\": [[[2.3626932370000304, 48.8700521280...</td>\n",
       "    </tr>\n",
       "    <tr>\n",
       "      <th>2</th>\n",
       "      <td>3</td>\n",
       "      <td>1</td>\n",
       "      <td>Location 1 : 0 - 5</td>\n",
       "      <td>0</td>\n",
       "      <td>5</td>\n",
       "      <td>0.030366068129901422</td>\n",
       "      <td>5.189780749956513e-05</td>\n",
       "      <td>{\"rings\": [[[2.362468659000058, 48.86713261600...</td>\n",
       "    </tr>\n",
       "  </tbody>\n",
       "</table>\n",
       "</div>"
      ],
      "text/plain": [
       "   ObjectID FacilityID                  Name FromBreak ToBreak  \\\n",
       "0         1          1  Location 1 : 10 - 15        10      15   \n",
       "1         2          1   Location 1 : 5 - 10         5      10   \n",
       "2         3          1    Location 1 : 0 - 5         0       5   \n",
       "\n",
       "           Shape_Length              Shape_Area  \\\n",
       "0   0.16074544855783407  0.00024655239956060897   \n",
       "1   0.09336814723855202   0.0001481029247122904   \n",
       "2  0.030366068129901422   5.189780749956513e-05   \n",
       "\n",
       "                                               SHAPE  \n",
       "0  {\"rings\": [[[2.361794926000073, 48.87342079400...  \n",
       "1  {\"rings\": [[[2.3626932370000304, 48.8700521280...  \n",
       "2  {\"rings\": [[[2.362468659000058, 48.86713261600...  "
      ]
     },
     "execution_count": 9,
     "metadata": {},
     "output_type": "execute_result"
    }
   ],
   "source": [
    "plot_walking_areas(paris_map, client)"
   ]
  },
  {
   "cell_type": "code",
   "execution_count": 19,
   "id": "55416004",
   "metadata": {},
   "outputs": [
    {
     "data": {
      "application/vnd.jupyter.widget-view+json": {
       "model_id": "805de26821714d21882880f9da5aecbb",
       "version_major": 2,
       "version_minor": 0
      },
      "text/plain": [
       "MapView(layout=Layout(height='400px', width='100%'))"
      ]
     },
     "metadata": {},
     "output_type": "display_data"
    },
    {
     "data": {
      "text/html": [
       "<div class=\"map-static-img-preview-74d30810-d5a3-405e-9d92-b36c65f0b3b6\"><img src=\"\"></img></div>"
      ],
      "text/plain": [
       "<IPython.core.display.HTML object>"
      ]
     },
     "metadata": {},
     "output_type": "display_data"
    },
    {
     "data": {
      "text/html": [
       "<div class=\"map-html-embed-preview-74d30810-d5a3-405e-9d92-b36c65f0b3b6\"></div>"
      ],
      "text/plain": [
       "<IPython.core.display.HTML object>"
      ]
     },
     "metadata": {},
     "output_type": "display_data"
    }
   ],
   "source": [
    "paris_map = create_map_view(gis, 'Paris, France')\n",
    "paris_map"
   ]
  },
  {
   "cell_type": "code",
   "execution_count": 20,
   "id": "37fdb8e8",
   "metadata": {},
   "outputs": [
    {
     "data": {
      "text/html": [
       "<div>\n",
       "<style scoped>\n",
       "    .dataframe tbody tr th:only-of-type {\n",
       "        vertical-align: middle;\n",
       "    }\n",
       "\n",
       "    .dataframe tbody tr th {\n",
       "        vertical-align: top;\n",
       "    }\n",
       "\n",
       "    .dataframe thead th {\n",
       "        text-align: right;\n",
       "    }\n",
       "</style>\n",
       "<table border=\"1\" class=\"dataframe\">\n",
       "  <thead>\n",
       "    <tr style=\"text-align: right;\">\n",
       "      <th></th>\n",
       "      <th>placeId</th>\n",
       "      <th>name</th>\n",
       "      <th>from</th>\n",
       "      <th>to</th>\n",
       "      <th>OBJECTID</th>\n",
       "      <th>SHAPE</th>\n",
       "    </tr>\n",
       "  </thead>\n",
       "  <tbody>\n",
       "    <tr>\n",
       "      <th>0</th>\n",
       "      <td>d5f202cbf3e1e1d3261b394ab7982336</td>\n",
       "      <td>Musée de l'Histoire de France</td>\n",
       "      <td>5</td>\n",
       "      <td>10</td>\n",
       "      <td>1</td>\n",
       "      <td>{\"x\": 2.357099, \"y\": 48.860024, \"spatialRefere...</td>\n",
       "    </tr>\n",
       "    <tr>\n",
       "      <th>1</th>\n",
       "      <td>3028d0c324e3b4fb83f40d9e42d5a836</td>\n",
       "      <td>Musée Picasso</td>\n",
       "      <td>5</td>\n",
       "      <td>10</td>\n",
       "      <td>2</td>\n",
       "      <td>{\"x\": 2.362286, \"y\": 48.859905, \"spatialRefere...</td>\n",
       "    </tr>\n",
       "    <tr>\n",
       "      <th>2</th>\n",
       "      <td>e572d38397e895e9832118b3eafb61ba</td>\n",
       "      <td>Musée de la Chasse et de la Nature</td>\n",
       "      <td>0</td>\n",
       "      <td>5</td>\n",
       "      <td>3</td>\n",
       "      <td>{\"x\": 2.358624, \"y\": 48.861507, \"spatialRefere...</td>\n",
       "    </tr>\n",
       "    <tr>\n",
       "      <th>3</th>\n",
       "      <td>e69c4813788b76e802e640c7b3dc9ae1</td>\n",
       "      <td>Fondation Henri Cartier-Bresson</td>\n",
       "      <td>0</td>\n",
       "      <td>5</td>\n",
       "      <td>4</td>\n",
       "      <td>{\"x\": 2.359913, \"y\": 48.863244, \"spatialRefere...</td>\n",
       "    </tr>\n",
       "    <tr>\n",
       "      <th>4</th>\n",
       "      <td>c2ab5c711d7591387317006c98d749f1</td>\n",
       "      <td>Passage de Retz</td>\n",
       "      <td>0</td>\n",
       "      <td>5</td>\n",
       "      <td>5</td>\n",
       "      <td>{\"x\": 2.360545, \"y\": 48.861308, \"spatialRefere...</td>\n",
       "    </tr>\n",
       "  </tbody>\n",
       "</table>\n",
       "</div>"
      ],
      "text/plain": [
       "                            placeId                                name from  \\\n",
       "0  d5f202cbf3e1e1d3261b394ab7982336       Musée de l'Histoire de France    5   \n",
       "1  3028d0c324e3b4fb83f40d9e42d5a836                       Musée Picasso    5   \n",
       "2  e572d38397e895e9832118b3eafb61ba  Musée de la Chasse et de la Nature    0   \n",
       "3  e69c4813788b76e802e640c7b3dc9ae1     Fondation Henri Cartier-Bresson    0   \n",
       "4  c2ab5c711d7591387317006c98d749f1                     Passage de Retz    0   \n",
       "\n",
       "   to  OBJECTID                                              SHAPE  \n",
       "0  10         1  {\"x\": 2.357099, \"y\": 48.860024, \"spatialRefere...  \n",
       "1  10         2  {\"x\": 2.362286, \"y\": 48.859905, \"spatialRefere...  \n",
       "2   5         3  {\"x\": 2.358624, \"y\": 48.861507, \"spatialRefere...  \n",
       "3   5         4  {\"x\": 2.359913, \"y\": 48.863244, \"spatialRefere...  \n",
       "4   5         5  {\"x\": 2.360545, \"y\": 48.861308, \"spatialRefere...  "
      ]
     },
     "execution_count": 20,
     "metadata": {},
     "output_type": "execute_result"
    }
   ],
   "source": [
    "plot_places_nearby(paris_map, client, museum_id)"
   ]
  },
  {
   "cell_type": "code",
   "execution_count": 21,
   "id": "d6ea7c7c",
   "metadata": {},
   "outputs": [
    {
     "data": {
      "application/vnd.jupyter.widget-view+json": {
       "model_id": "d3d9959b9efc4bcdb4386bf7e0e6e2dd",
       "version_major": 2,
       "version_minor": 0
      },
      "text/plain": [
       "MapView(layout=Layout(height='400px', width='100%'))"
      ]
     },
     "metadata": {},
     "output_type": "display_data"
    },
    {
     "data": {
      "text/html": [
       "<div class=\"map-static-img-preview-e5d9cf17-93ec-47f8-8247-de4fc2b43a2b\"><img src=\"\"></img></div>"
      ],
      "text/plain": [
       "<IPython.core.display.HTML object>"
      ]
     },
     "metadata": {},
     "output_type": "display_data"
    },
    {
     "data": {
      "text/html": [
       "<div class=\"map-html-embed-preview-e5d9cf17-93ec-47f8-8247-de4fc2b43a2b\"></div>"
      ],
      "text/plain": [
       "<IPython.core.display.HTML object>"
      ]
     },
     "metadata": {},
     "output_type": "display_data"
    }
   ],
   "source": [
    "paris_map = create_map_view(gis, 'Paris, France')\n",
    "paris_map"
   ]
  },
  {
   "cell_type": "code",
   "execution_count": 22,
   "id": "893f6d9a",
   "metadata": {},
   "outputs": [
    {
     "data": {
      "text/html": [
       "<div>\n",
       "<style scoped>\n",
       "    .dataframe tbody tr th:only-of-type {\n",
       "        vertical-align: middle;\n",
       "    }\n",
       "\n",
       "    .dataframe tbody tr th {\n",
       "        vertical-align: top;\n",
       "    }\n",
       "\n",
       "    .dataframe thead th {\n",
       "        text-align: right;\n",
       "    }\n",
       "</style>\n",
       "<table border=\"1\" class=\"dataframe\">\n",
       "  <thead>\n",
       "    <tr style=\"text-align: right;\">\n",
       "      <th></th>\n",
       "      <th>name</th>\n",
       "      <th>total_minutes</th>\n",
       "      <th>total_kilometers</th>\n",
       "      <th>OBJECTID</th>\n",
       "      <th>SHAPE</th>\n",
       "    </tr>\n",
       "  </thead>\n",
       "  <tbody>\n",
       "    <tr>\n",
       "      <th>0</th>\n",
       "      <td>Location 1 - Fondation Henri Cartier-Bresson</td>\n",
       "      <td>2.19</td>\n",
       "      <td>0.18</td>\n",
       "      <td>1</td>\n",
       "      <td>{\"paths\": [[[2.3617855870000426, 48.8635913520...</td>\n",
       "    </tr>\n",
       "    <tr>\n",
       "      <th>1</th>\n",
       "      <td>Location 1 - Passage de Retz</td>\n",
       "      <td>4.27</td>\n",
       "      <td>0.36</td>\n",
       "      <td>2</td>\n",
       "      <td>{\"paths\": [[[2.3617855870000426, 48.8635913520...</td>\n",
       "    </tr>\n",
       "    <tr>\n",
       "      <th>2</th>\n",
       "      <td>Location 1 - Musée de la Chasse et de la Nature</td>\n",
       "      <td>4.56</td>\n",
       "      <td>0.38</td>\n",
       "      <td>3</td>\n",
       "      <td>{\"paths\": [[[2.3617855870000426, 48.8635913520...</td>\n",
       "    </tr>\n",
       "    <tr>\n",
       "      <th>3</th>\n",
       "      <td>Location 1 - Musée Picasso</td>\n",
       "      <td>6.53</td>\n",
       "      <td>0.54</td>\n",
       "      <td>4</td>\n",
       "      <td>{\"paths\": [[[2.3617855870000426, 48.8635913520...</td>\n",
       "    </tr>\n",
       "    <tr>\n",
       "      <th>4</th>\n",
       "      <td>Location 1 - Musée de l'Histoire de France</td>\n",
       "      <td>7.25</td>\n",
       "      <td>0.6</td>\n",
       "      <td>5</td>\n",
       "      <td>{\"paths\": [[[2.3617855870000426, 48.8635913520...</td>\n",
       "    </tr>\n",
       "  </tbody>\n",
       "</table>\n",
       "</div>"
      ],
      "text/plain": [
       "                                              name total_minutes  \\\n",
       "0     Location 1 - Fondation Henri Cartier-Bresson          2.19   \n",
       "1                     Location 1 - Passage de Retz          4.27   \n",
       "2  Location 1 - Musée de la Chasse et de la Nature          4.56   \n",
       "3                       Location 1 - Musée Picasso          6.53   \n",
       "4       Location 1 - Musée de l'Histoire de France          7.25   \n",
       "\n",
       "  total_kilometers  OBJECTID  \\\n",
       "0             0.18         1   \n",
       "1             0.36         2   \n",
       "2             0.38         3   \n",
       "3             0.54         4   \n",
       "4              0.6         5   \n",
       "\n",
       "                                               SHAPE  \n",
       "0  {\"paths\": [[[2.3617855870000426, 48.8635913520...  \n",
       "1  {\"paths\": [[[2.3617855870000426, 48.8635913520...  \n",
       "2  {\"paths\": [[[2.3617855870000426, 48.8635913520...  \n",
       "3  {\"paths\": [[[2.3617855870000426, 48.8635913520...  \n",
       "4  {\"paths\": [[[2.3617855870000426, 48.8635913520...  "
      ]
     },
     "execution_count": 22,
     "metadata": {},
     "output_type": "execute_result"
    }
   ],
   "source": [
    "plot_walking_routes(paris_map, client, museum_id)"
   ]
  },
  {
   "cell_type": "code",
   "execution_count": 23,
   "id": "5ee3affa",
   "metadata": {
    "scrolled": false
   },
   "outputs": [
    {
     "data": {
      "application/vnd.jupyter.widget-view+json": {
       "model_id": "e6455e3a688446f08acd07abc70d7d74",
       "version_major": 2,
       "version_minor": 0
      },
      "text/plain": [
       "MapView(layout=Layout(height='400px', width='100%'))"
      ]
     },
     "metadata": {},
     "output_type": "display_data"
    },
    {
     "data": {
      "text/html": [
       "<div class=\"map-static-img-preview-5a3bd8ec-45f2-4ebf-bbe4-76706c783bf9\"><img src=\"\"></img></div>"
      ],
      "text/plain": [
       "<IPython.core.display.HTML object>"
      ]
     },
     "metadata": {},
     "output_type": "display_data"
    },
    {
     "data": {
      "text/html": [
       "<div class=\"map-html-embed-preview-5a3bd8ec-45f2-4ebf-bbe4-76706c783bf9\"></div>"
      ],
      "text/plain": [
       "<IPython.core.display.HTML object>"
      ]
     },
     "metadata": {},
     "output_type": "display_data"
    }
   ],
   "source": [
    "paris_map = create_map_view(gis, 'Paris, France')\n",
    "paris_map"
   ]
  },
  {
   "cell_type": "code",
   "execution_count": 24,
   "id": "5bf23192",
   "metadata": {},
   "outputs": [
    {
     "data": {
      "text/html": [
       "<div>\n",
       "<style scoped>\n",
       "    .dataframe tbody tr th:only-of-type {\n",
       "        vertical-align: middle;\n",
       "    }\n",
       "\n",
       "    .dataframe tbody tr th {\n",
       "        vertical-align: top;\n",
       "    }\n",
       "\n",
       "    .dataframe thead th {\n",
       "        text-align: right;\n",
       "    }\n",
       "</style>\n",
       "<table border=\"1\" class=\"dataframe\">\n",
       "  <thead>\n",
       "    <tr style=\"text-align: right;\">\n",
       "      <th></th>\n",
       "      <th>hits</th>\n",
       "      <th>OBJECTID</th>\n",
       "      <th>SHAPE</th>\n",
       "    </tr>\n",
       "  </thead>\n",
       "  <tbody>\n",
       "    <tr>\n",
       "      <th>0</th>\n",
       "      <td>1</td>\n",
       "      <td>1</td>\n",
       "      <td>{\"rings\": [[[2.3549608912799354, 48.8545387117...</td>\n",
       "    </tr>\n",
       "    <tr>\n",
       "      <th>1</th>\n",
       "      <td>1</td>\n",
       "      <td>2</td>\n",
       "      <td>{\"rings\": [[[2.3549608912799354, 48.8607445322...</td>\n",
       "    </tr>\n",
       "    <tr>\n",
       "      <th>2</th>\n",
       "      <td>1</td>\n",
       "      <td>3</td>\n",
       "      <td>{\"rings\": [[[2.3549608912799354, 48.8660631946...</td>\n",
       "    </tr>\n",
       "    <tr>\n",
       "      <th>3</th>\n",
       "      <td>1</td>\n",
       "      <td>4</td>\n",
       "      <td>{\"rings\": [[[2.3561278370649186, 48.8603012848...</td>\n",
       "    </tr>\n",
       "    <tr>\n",
       "      <th>4</th>\n",
       "      <td>1</td>\n",
       "      <td>5</td>\n",
       "      <td>{\"rings\": [[[2.3607956202048506, 48.8567551645...</td>\n",
       "    </tr>\n",
       "    <tr>\n",
       "      <th>5</th>\n",
       "      <td>1</td>\n",
       "      <td>6</td>\n",
       "      <td>{\"rings\": [[[2.3607956202048506, 48.8585282561...</td>\n",
       "    </tr>\n",
       "    <tr>\n",
       "      <th>6</th>\n",
       "      <td>1</td>\n",
       "      <td>7</td>\n",
       "      <td>{\"rings\": [[[2.3619625659898333, 48.8598580335...</td>\n",
       "    </tr>\n",
       "    <tr>\n",
       "      <th>7</th>\n",
       "      <td>1</td>\n",
       "      <td>8</td>\n",
       "      <td>{\"rings\": [[[2.3666303491297653, 48.8589715192...</td>\n",
       "    </tr>\n",
       "  </tbody>\n",
       "</table>\n",
       "</div>"
      ],
      "text/plain": [
       "  hits  OBJECTID                                              SHAPE\n",
       "0    1         1  {\"rings\": [[[2.3549608912799354, 48.8545387117...\n",
       "1    1         2  {\"rings\": [[[2.3549608912799354, 48.8607445322...\n",
       "2    1         3  {\"rings\": [[[2.3549608912799354, 48.8660631946...\n",
       "3    1         4  {\"rings\": [[[2.3561278370649186, 48.8603012848...\n",
       "4    1         5  {\"rings\": [[[2.3607956202048506, 48.8567551645...\n",
       "5    1         6  {\"rings\": [[[2.3607956202048506, 48.8585282561...\n",
       "6    1         7  {\"rings\": [[[2.3619625659898333, 48.8598580335...\n",
       "7    1         8  {\"rings\": [[[2.3666303491297653, 48.8589715192..."
      ]
     },
     "execution_count": 24,
     "metadata": {},
     "output_type": "execute_result"
    }
   ],
   "source": [
    "paris_museum_sdf = plot_urban_walking(paris_map, client, museum_id)\n",
    "paris_museum_sdf"
   ]
  },
  {
   "cell_type": "code",
   "execution_count": 25,
   "id": "e05796df",
   "metadata": {},
   "outputs": [
    {
     "data": {
      "application/vnd.jupyter.widget-view+json": {
       "model_id": "c07dc5d0b1804b6aa7a798dde6faa27b",
       "version_major": 2,
       "version_minor": 0
      },
      "text/plain": [
       "MapView(layout=Layout(height='400px', width='100%'))"
      ]
     },
     "metadata": {},
     "output_type": "display_data"
    },
    {
     "data": {
      "text/html": [
       "<div class=\"map-static-img-preview-70d6a6b2-79f5-4f1f-a926-cb85beca5b8d\"><img src=\"\"></img></div>"
      ],
      "text/plain": [
       "<IPython.core.display.HTML object>"
      ]
     },
     "metadata": {},
     "output_type": "display_data"
    },
    {
     "data": {
      "text/html": [
       "<div class=\"map-html-embed-preview-70d6a6b2-79f5-4f1f-a926-cb85beca5b8d\"></div>"
      ],
      "text/plain": [
       "<IPython.core.display.HTML object>"
      ]
     },
     "metadata": {},
     "output_type": "display_data"
    }
   ],
   "source": [
    "barcelona_map = create_map_view(gis, 'Barcelona, Spain')\n",
    "barcelona_map"
   ]
  },
  {
   "cell_type": "code",
   "execution_count": 26,
   "id": "d314d80e",
   "metadata": {},
   "outputs": [
    {
     "data": {
      "text/html": [
       "<div>\n",
       "<style scoped>\n",
       "    .dataframe tbody tr th:only-of-type {\n",
       "        vertical-align: middle;\n",
       "    }\n",
       "\n",
       "    .dataframe tbody tr th {\n",
       "        vertical-align: top;\n",
       "    }\n",
       "\n",
       "    .dataframe thead th {\n",
       "        text-align: right;\n",
       "    }\n",
       "</style>\n",
       "<table border=\"1\" class=\"dataframe\">\n",
       "  <thead>\n",
       "    <tr style=\"text-align: right;\">\n",
       "      <th></th>\n",
       "      <th>hits</th>\n",
       "      <th>OBJECTID</th>\n",
       "      <th>SHAPE</th>\n",
       "    </tr>\n",
       "  </thead>\n",
       "  <tbody>\n",
       "    <tr>\n",
       "      <th>0</th>\n",
       "      <td>1</td>\n",
       "      <td>1</td>\n",
       "      <td>{\"rings\": [[[2.15837150178505, 41.395660534716...</td>\n",
       "    </tr>\n",
       "    <tr>\n",
       "      <th>1</th>\n",
       "      <td>1</td>\n",
       "      <td>2</td>\n",
       "      <td>{\"rings\": [[[2.1607053933550167, 41.3956605347...</td>\n",
       "    </tr>\n",
       "    <tr>\n",
       "      <th>2</th>\n",
       "      <td>1</td>\n",
       "      <td>3</td>\n",
       "      <td>{\"rings\": [[[2.1642062307099654, 41.3931334309...</td>\n",
       "    </tr>\n",
       "    <tr>\n",
       "      <th>3</th>\n",
       "      <td>1</td>\n",
       "      <td>4</td>\n",
       "      <td>{\"rings\": [[[2.1700409596348806, 41.3804964386...</td>\n",
       "    </tr>\n",
       "    <tr>\n",
       "      <th>4</th>\n",
       "      <td>1</td>\n",
       "      <td>5</td>\n",
       "      <td>{\"rings\": [[[2.1723748512048466, 41.3825185224...</td>\n",
       "    </tr>\n",
       "    <tr>\n",
       "      <th>5</th>\n",
       "      <td>1</td>\n",
       "      <td>6</td>\n",
       "      <td>{\"rings\": [[[2.175875688559796, 41.38201300738...</td>\n",
       "    </tr>\n",
       "    <tr>\n",
       "      <th>6</th>\n",
       "      <td>1</td>\n",
       "      <td>7</td>\n",
       "      <td>{\"rings\": [[[2.175875688559796, 41.38403504405...</td>\n",
       "    </tr>\n",
       "    <tr>\n",
       "      <th>7</th>\n",
       "      <td>1</td>\n",
       "      <td>8</td>\n",
       "      <td>{\"rings\": [[[2.1770426343447786, 41.3835295407...</td>\n",
       "    </tr>\n",
       "    <tr>\n",
       "      <th>8</th>\n",
       "      <td>1</td>\n",
       "      <td>9</td>\n",
       "      <td>{\"rings\": [[[2.1782095801297614, 41.3810019654...</td>\n",
       "    </tr>\n",
       "  </tbody>\n",
       "</table>\n",
       "</div>"
      ],
      "text/plain": [
       "  hits  OBJECTID                                              SHAPE\n",
       "0    1         1  {\"rings\": [[[2.15837150178505, 41.395660534716...\n",
       "1    1         2  {\"rings\": [[[2.1607053933550167, 41.3956605347...\n",
       "2    1         3  {\"rings\": [[[2.1642062307099654, 41.3931334309...\n",
       "3    1         4  {\"rings\": [[[2.1700409596348806, 41.3804964386...\n",
       "4    1         5  {\"rings\": [[[2.1723748512048466, 41.3825185224...\n",
       "5    1         6  {\"rings\": [[[2.175875688559796, 41.38201300738...\n",
       "6    1         7  {\"rings\": [[[2.175875688559796, 41.38403504405...\n",
       "7    1         8  {\"rings\": [[[2.1770426343447786, 41.3835295407...\n",
       "8    1         9  {\"rings\": [[[2.1782095801297614, 41.3810019654..."
      ]
     },
     "execution_count": 26,
     "metadata": {},
     "output_type": "execute_result"
    }
   ],
   "source": [
    "barcelona_museum_sdf = plot_urban_walking(barcelona_map, client, museum_id)\n",
    "barcelona_museum_sdf"
   ]
  },
  {
   "cell_type": "code",
   "execution_count": 27,
   "id": "44284c11",
   "metadata": {
    "scrolled": false
   },
   "outputs": [
    {
     "data": {
      "application/vnd.jupyter.widget-view+json": {
       "model_id": "6b436e35303541c185b31c5051c82bd7",
       "version_major": 2,
       "version_minor": 0
      },
      "text/plain": [
       "HBox(children=(MapView(jupyter_target='notebook', layout=Layout(flex='1 1', height='450px', padding='6px'), re…"
      ]
     },
     "metadata": {},
     "output_type": "display_data"
    }
   ],
   "source": [
    "display_two_map_views(paris_map, barcelona_map)"
   ]
  },
  {
   "cell_type": "markdown",
   "id": "7183e4a4",
   "metadata": {},
   "source": [
    "## Additional locations visualize and get center coordinates"
   ]
  },
  {
   "cell_type": "code",
   "execution_count": 10,
   "id": "9077f463",
   "metadata": {},
   "outputs": [
    {
     "data": {
      "application/vnd.jupyter.widget-view+json": {
       "model_id": "2052ac5aa6a340b1b767b3a839a33dd8",
       "version_major": 2,
       "version_minor": 0
      },
      "text/plain": [
       "MapView(layout=Layout(height='400px', width='100%'))"
      ]
     },
     "metadata": {},
     "output_type": "display_data"
    },
    {
     "data": {
      "text/html": [
       "<div class=\"map-static-img-preview-5dc7d3f2-6835-4a79-a9a1-ba0880f5423c\"><img src=\"\"></img></div>"
      ],
      "text/plain": [
       "<IPython.core.display.HTML object>"
      ]
     },
     "metadata": {},
     "output_type": "display_data"
    },
    {
     "data": {
      "text/html": [
       "<div class=\"map-html-embed-preview-5dc7d3f2-6835-4a79-a9a1-ba0880f5423c\"></div>"
      ],
      "text/plain": [
       "<IPython.core.display.HTML object>"
      ]
     },
     "metadata": {},
     "output_type": "display_data"
    }
   ],
   "source": [
    "talinn_map = create_map_view(gis, 'Talinn, Estonia')\n",
    "talinn_map"
   ]
  },
  {
   "cell_type": "code",
   "execution_count": 11,
   "id": "5632a25e",
   "metadata": {},
   "outputs": [
    {
     "data": {
      "text/plain": [
       "(59.43278807766108, 24.744065678)"
      ]
     },
     "execution_count": 11,
     "metadata": {},
     "output_type": "execute_result"
    }
   ],
   "source": [
    "project_center(talinn_map)"
   ]
  },
  {
   "cell_type": "markdown",
   "id": "b0efe7c3",
   "metadata": {},
   "source": [
    "## Visualize accessibility using seaborn\n",
    "Analyze walking areas for various cities.\n",
    "Requirements:\n",
    "- seaborn"
   ]
  },
  {
   "cell_type": "code",
   "execution_count": 36,
   "id": "ad59894f",
   "metadata": {},
   "outputs": [],
   "source": [
    "import matplotlib.pyplot as plt\n",
    "import os\n",
    "import pandas as pd\n",
    "import seaborn as sns\n",
    "from tempfile import gettempdir\n",
    "import time"
   ]
  },
  {
   "cell_type": "code",
   "execution_count": 37,
   "id": "64c79c6d",
   "metadata": {},
   "outputs": [],
   "source": [
    "named_categories = [{\n",
    "    'name': name,\n",
    "    'id': category_registry.find_id(name)\n",
    "} for name in [\n",
    "    'Museum', \n",
    "    'Primary and Secondary School', \n",
    "    'College and University', \n",
    "    'Restaurant', \n",
    "    'Cafe', \n",
    "    'Bar', \n",
    "    'Park', \n",
    "    'Sports Club', \n",
    "    'Residential Building', \n",
    "    'Office', \n",
    "    'Retail', \n",
    "    'Transport Hub'\n",
    "    ]\n",
    "]"
   ]
  },
  {
   "cell_type": "code",
   "execution_count": 47,
   "id": "93aacfad",
   "metadata": {},
   "outputs": [],
   "source": [
    "def analyze_categories(named_locations, named_categories):\n",
    "    \"\"\"\n",
    "    Analyzes the named locations using the specified named categories.\n",
    "    \n",
    "    :param named_locations: Location having name, lat, and lon property.\n",
    "    :param named_categories: Category having name, and id property.\n",
    "    :return: Returns a pandas data frame representing the urban walking analysis results.\n",
    "    \"\"\"\n",
    "    named_values = {\n",
    "        'Location': []\n",
    "    }\n",
    "    for named_location in named_locations:\n",
    "        location = named_location['name']\n",
    "        lat = named_location['lat']\n",
    "        lon = named_location['lon']\n",
    "        named_values['Location'].append(location)\n",
    "        for category in named_categories:\n",
    "            # Avoid to hit the rate limit\n",
    "            time.sleep(10)\n",
    "            \n",
    "            analysis_sdf = analyze_urban_walking(lat, lon, client, category['id'])\n",
    "            overall_sum = 0 if None is analysis_sdf else analysis_sdf['hits'].astype('int32').sum()\n",
    "            if category['name'] in named_values:\n",
    "                values = named_values[category['name']]\n",
    "                values.append(overall_sum)\n",
    "            else:\n",
    "                named_values[category['name']] = [overall_sum]\n",
    "\n",
    "    return pd.DataFrame(named_values)"
   ]
  },
  {
   "cell_type": "code",
   "execution_count": 48,
   "id": "4014a265",
   "metadata": {},
   "outputs": [
    {
     "data": {
      "text/html": [
       "<div>\n",
       "<style scoped>\n",
       "    .dataframe tbody tr th:only-of-type {\n",
       "        vertical-align: middle;\n",
       "    }\n",
       "\n",
       "    .dataframe tbody tr th {\n",
       "        vertical-align: top;\n",
       "    }\n",
       "\n",
       "    .dataframe thead th {\n",
       "        text-align: right;\n",
       "    }\n",
       "</style>\n",
       "<table border=\"1\" class=\"dataframe\">\n",
       "  <thead>\n",
       "    <tr style=\"text-align: right;\">\n",
       "      <th></th>\n",
       "      <th>Location</th>\n",
       "      <th>Museum</th>\n",
       "      <th>Primary and Secondary School</th>\n",
       "      <th>College and University</th>\n",
       "      <th>Restaurant</th>\n",
       "      <th>Cafe</th>\n",
       "      <th>Bar</th>\n",
       "      <th>Park</th>\n",
       "      <th>Sports Club</th>\n",
       "      <th>Residential Building</th>\n",
       "      <th>Office</th>\n",
       "      <th>Retail</th>\n",
       "      <th>Transport Hub</th>\n",
       "    </tr>\n",
       "  </thead>\n",
       "  <tbody>\n",
       "    <tr>\n",
       "      <th>0</th>\n",
       "      <td>Paris, France</td>\n",
       "      <td>8</td>\n",
       "      <td>8</td>\n",
       "      <td>9</td>\n",
       "      <td>8</td>\n",
       "      <td>8</td>\n",
       "      <td>4</td>\n",
       "      <td>9</td>\n",
       "      <td>1</td>\n",
       "      <td>2</td>\n",
       "      <td>6</td>\n",
       "      <td>10</td>\n",
       "      <td>7</td>\n",
       "    </tr>\n",
       "    <tr>\n",
       "      <th>1</th>\n",
       "      <td>Barcelona, Spain</td>\n",
       "      <td>9</td>\n",
       "      <td>10</td>\n",
       "      <td>9</td>\n",
       "      <td>10</td>\n",
       "      <td>9</td>\n",
       "      <td>7</td>\n",
       "      <td>6</td>\n",
       "      <td>1</td>\n",
       "      <td>9</td>\n",
       "      <td>9</td>\n",
       "      <td>10</td>\n",
       "      <td>8</td>\n",
       "    </tr>\n",
       "    <tr>\n",
       "      <th>2</th>\n",
       "      <td>Tallinn, Estonia</td>\n",
       "      <td>10</td>\n",
       "      <td>6</td>\n",
       "      <td>9</td>\n",
       "      <td>9</td>\n",
       "      <td>8</td>\n",
       "      <td>8</td>\n",
       "      <td>7</td>\n",
       "      <td>0</td>\n",
       "      <td>4</td>\n",
       "      <td>7</td>\n",
       "      <td>10</td>\n",
       "      <td>7</td>\n",
       "    </tr>\n",
       "  </tbody>\n",
       "</table>\n",
       "</div>"
      ],
      "text/plain": [
       "           Location  Museum  Primary and Secondary School  \\\n",
       "0     Paris, France       8                             8   \n",
       "1  Barcelona, Spain       9                            10   \n",
       "2  Tallinn, Estonia      10                             6   \n",
       "\n",
       "   College and University  Restaurant  Cafe  Bar  Park  Sports Club  \\\n",
       "0                       9           8     8    4     9            1   \n",
       "1                       9          10     9    7     6            1   \n",
       "2                       9           9     8    8     7            0   \n",
       "\n",
       "   Residential Building  Office  Retail  Transport Hub  \n",
       "0                     2       6      10              7  \n",
       "1                     9       9      10              8  \n",
       "2                     4       7      10              7  "
      ]
     },
     "execution_count": 48,
     "metadata": {},
     "output_type": "execute_result"
    }
   ],
   "source": [
    "named_locations = [\n",
    "    {\n",
    "        'name': 'Paris, France',\n",
    "        'lat': 48.86376640243179,\n",
    "        'lon': 2.361657337\n",
    "    }, \n",
    "    {\n",
    "        'name': 'Barcelona, Spain',\n",
    "        'lat': 41.38796870966504,\n",
    "        'lon': 2.1699187\n",
    "    },\n",
    "    {\n",
    "        'name': 'Tallinn, Estonia',\n",
    "        'lat': 59.43278807766108,\n",
    "        'lon': 24.744065678\n",
    "    }\n",
    "]\n",
    "\n",
    "category_df = analyze_categories(named_locations, named_categories)\n",
    "category_df"
   ]
  },
  {
   "cell_type": "code",
   "execution_count": 49,
   "id": "593c73d1",
   "metadata": {},
   "outputs": [
    {
     "data": {
      "image/png": "[encoded data removed]",
      "text/plain": [
       "<Figure size 1384.25x600 with 1 Axes>"
      ]
     },
     "metadata": {},
     "output_type": "display_data"
    }
   ],
   "source": [
    "# Melt the dataframe for seaborn\n",
    "df_melted = category_df.melt(id_vars='Location', var_name='Category', value_name='Count')\n",
    "\n",
    "# Create the catplot with adjusted labels and legend background\n",
    "sns.set(style=\"whitegrid\")\n",
    "g = sns.catplot(\n",
    "    data=df_melted, kind=\"bar\",\n",
    "    x=\"Category\", y=\"Count\", hue=\"Location\",\n",
    "    errorbar=None, palette=\"muted\", height=6, aspect=2\n",
    ")\n",
    "g.set_axis_labels(\"\", \"Count\")\n",
    "g.set_titles(\"Number of Accessible Places in Paris and Barcelona\")\n",
    "g.despine(left=True)\n",
    "plt.xticks(rotation=45, ha=\"right\", rotation_mode=\"anchor\")\n",
    "plt.title('Number of Accessible Places in Paris and Barcelona')\n",
    "plt.tight_layout()\n",
    "\n",
    "# Add a white background rectangle to the legend\n",
    "legend = g.legend\n",
    "legend.set_frame_on(True)\n",
    "legend.get_frame().set_facecolor('white')\n",
    "legend.get_frame().set_edgecolor('black')\n",
    "plt.show()"
   ]
  },
  {
   "cell_type": "code",
   "execution_count": 50,
   "id": "84036b20",
   "metadata": {},
   "outputs": [],
   "source": [
    "def save_analysis_to_temp(df: pd.DataFrame, filename: str = 'urban_analysis.csv'):\n",
    "    \"\"\"\n",
    "    Saves the dataframe as csv file to the temp directory.\n",
    "    If the file existis it gets updated.\n",
    "    \n",
    "    :param df: The dataframe being saved.\n",
    "    :param filename: The name of the CSV file being written.\n",
    "    :return: The filepath of the CSF file.\n",
    "    \"\"\"\n",
    "    \n",
    "    # Define the path to the temporary folder\n",
    "    temp_folder = gettempdir()\n",
    "    file_path = os.path.join(temp_folder, filename)\n",
    "\n",
    "    # Check if the file exists\n",
    "    if os.path.exists(file_path):\n",
    "        # Read the existing data\n",
    "        existing_df = pd.read_csv(file_path)\n",
    "        \n",
    "        # Merge the dataframes, using 'Location' as the unique key\n",
    "        merged_df = pd.merge(existing_df, df, on='Location', how='outer', suffixes=('', '_new'))\n",
    "\n",
    "        # Update existing rows with new data\n",
    "        for column in df.columns:\n",
    "            if column != 'Location':\n",
    "                merged_df[column] = merged_df[column + '_new'].combine_first(merged_df[column])\n",
    "                merged_df.drop(columns=[column + '_new'], inplace=True)\n",
    "    else:\n",
    "        # If the file does not exist, use the provided dataframe\n",
    "        merged_df = df\n",
    "\n",
    "    # Save the merged dataframe to the temp folder\n",
    "    merged_df.to_csv(file_path, index=False)\n",
    "    return file_path"
   ]
  },
  {
   "cell_type": "code",
   "execution_count": 51,
   "id": "a9c5dba2",
   "metadata": {},
   "outputs": [
    {
     "data": {
      "text/plain": [
       "'/tmp/urban_analysis.csv'"
      ]
     },
     "execution_count": 51,
     "metadata": {},
     "output_type": "execute_result"
    }
   ],
   "source": [
    "save_analysis_to_temp(category_df)"
   ]
  },
  {
   "cell_type": "code",
   "execution_count": null,
   "id": "0be2057f",
   "metadata": {},
   "outputs": [],
   "source": []
  }
 ],
 "metadata": {
  "kernelspec": {
   "display_name": "Python 3 (ipykernel)",
   "language": "python",
   "name": "python3"
  },
  "language_info": {
   "codemirror_mode": {
    "name": "ipython",
    "version": 3
   },
   "file_extension": ".py",
   "mimetype": "text/x-python",
   "name": "python",
   "nbconvert_exporter": "python",
   "pygments_lexer": "ipython3",
   "version": "3.9.15"
  }
 },
 "nbformat": 4,
 "nbformat_minor": 5
}
