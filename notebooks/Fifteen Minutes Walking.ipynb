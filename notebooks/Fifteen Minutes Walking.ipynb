{
 "cells": [
  {
   "cell_type": "markdown",
   "id": "0b3f3697",
   "metadata": {},
   "source": [
    "# Fifteen minutes walking for urban city planning\n",
    "To create a 15-minute city, urban planners need to address a variety of place categories to ensure that all essential services and amenities are within easy reach."
   ]
  },
  {
   "cell_type": "code",
   "execution_count": null,
   "id": "990520d9",
   "metadata": {},
   "outputs": [],
   "source": [
    "from arcgis.gis import GIS\n",
    "from arcgis.features import FeatureSet\n",
    "from arcgis.geometry.functions import project\n",
    "from geopedestrian.categories import CategoryRegistry\n",
    "from geopedestrian.services import analyze_walking, solve_walking, walk_to\n",
    "from georapid.client import GeoRapidClient\n",
    "from georapid.factory import EnvironmentClientFactory\n",
    "from ipywidgets import HBox, Layout"
   ]
  },
  {
   "cell_type": "markdown",
   "id": "90d7ccaa",
   "metadata": {},
   "source": [
    "The `host` variable stores the URL for the geopedestrian API hosted on RapidAPI. This URL is used to connect to the GeoPedestrian services.\n",
    "\n",
    "The `client` variable creates an instance of the `GeoRapidClient` using the `EnvironmentClientFactory`. The `create_client_with_host` method takes the host URL as an argument and returns a client instance for interacting with the geopedestrian API."
   ]
  },
  {
   "cell_type": "code",
   "execution_count": null,
   "id": "9bf1182c",
   "metadata": {},
   "outputs": [],
   "source": [
    "host = 'geopedestrian.p.rapidapi.com'\n",
    "client: GeoRapidClient = EnvironmentClientFactory.create_client_with_host(host)"
   ]
  },
  {
   "cell_type": "markdown",
   "id": "53dad989",
   "metadata": {},
   "source": [
    "This function plots the results of a 15-minute walking analysis using the specified map view. The map view must be fully initialized before calling these functions."
   ]
  },
  {
   "cell_type": "code",
   "execution_count": null,
   "id": "dbc8cce1",
   "metadata": {},
   "outputs": [],
   "source": [
    "def plot_walking_areas(map_view, client: GeoRapidClient):\n",
    "    \"\"\"\n",
    "    Plots walking areas which are accessible by pedestrians using the specified map view.\n",
    "    \n",
    "    :param map_view: The map view defining the area of interest.\n",
    "    :param client: The authenticated client instance for Rapid API.\n",
    "    :return: Returns the walking areas as a spatially-enabled dataframe.\n",
    "    \"\"\"\n",
    "    lat, lon = project_center(map_view)\n",
    "    \n",
    "    # Solve the walking areas\n",
    "    walking_result = solve_walking(client, lat, lon)\n",
    "    walking_areas_sdf = FeatureSet.from_geojson(walking_result).sdf\n",
    "    walking_areas_sdf.spatial.plot(map_view, renderer_type='u', col='ToBreak', cmap='RdYlGn', alpha=0.35)\n",
    "    map_view.zoom_to_layer(walking_areas_sdf)\n",
    "    return walking_areas_sdf\n",
    "\n",
    "def plot_walking_routes(map_view, client: GeoRapidClient, category_id: int):\n",
    "    \"\"\"\n",
    "    Plots walking routes to places which are accessible by pedestrians using the specified map view.\n",
    "    \n",
    "    :param map_view: The map view defining the area of interest.\n",
    "    :param client: The authenticated client instance for Rapid API.\n",
    "    :param category_id: The places category of interest.\n",
    "    :return: Returns the walking routes as a spatially-enabled dataframe.\n",
    "    \"\"\"\n",
    "    lat, lon = project_center(map_view)\n",
    "    \n",
    "    # Solve the walking routes\n",
    "    walking_result = walk_to(client, lat, lon, category_id)\n",
    "    routes_geojson = walking_result['routes']\n",
    "    routes_sdf = FeatureSet.from_geojson(routes_geojson).sdf\n",
    "    routes_sdf.spatial.plot(map_view, renderer_type='s', palette=[0, 120, 0, 130], line_width=15)\n",
    "    map_view.zoom_to_layer(routes_sdf)\n",
    "    return routes_sdf\n",
    "\n",
    "def plot_places_nearby(map_view, client: GeoRapidClient, category_id: int):\n",
    "    \"\"\"\n",
    "    Plots places which are accessible by pedestrians using the specified map view.\n",
    "    \n",
    "    :param map_view: The map view defining the area of interest.\n",
    "    :param client: The authenticated client instance for Rapid API.\n",
    "    :param category_id: The places category of interest.\n",
    "    :return: Returns the places as a spatially-enabled dataframe.\n",
    "    \"\"\"\n",
    "    lat, lon = project_center(map_view)\n",
    "    \n",
    "    # Solve the walking routes\n",
    "    walking_result = walk_to(client, lat, lon, category_id)\n",
    "    places_geojson = walking_result['places']\n",
    "    places_sdf = FeatureSet.from_geojson(places_geojson).sdf\n",
    "    places_sdf.spatial.plot(map_view)\n",
    "    map_view.zoom_to_layer(places_sdf)\n",
    "    return places_sdf\n",
    "\n",
    "def plot_urban_walking(map_view, client: GeoRapidClient, category_id: int):\n",
    "    \"\"\"\n",
    "    Plots the 15 minutes walking analysis result using the specified map view.\n",
    "    The map view must be fully initialized.\n",
    "    \n",
    "    :param map_view: The map view defining the area of interest.\n",
    "    :param client: The authenticated client instance for Rapid API.\n",
    "    :param category_id: The places category of interest.\n",
    "    :return: Returns the analysis result as a spatially-enabled dataframe.\n",
    "    \"\"\"\n",
    "    lat, lon = project_center(map_view)\n",
    "    \n",
    "    # Analyze the 15 minutes walking areas\n",
    "    analysis_sdf = analyze_urban_walking(lat, lon, client, category_id)\n",
    "    analysis_sdf.spatial.plot(map_view, renderer_type='u', col='hits', cmap='YlGn', alpha=0.35)\n",
    "    map_view.zoom_to_layer(analysis_sdf)\n",
    "    return analysis_sdf\n",
    "\n",
    "def analyze_urban_walking(lat: float, lon: float, client: GeoRapidClient, category_id: int):\n",
    "    \"\"\"\n",
    "    Analyzes the 15 minutes walking scenario using the specified location.\n",
    "    \n",
    "    :param lat: The latitude defining the point of interest.\n",
    "    :param lon: The longitude defining the point of interest.\n",
    "    :param client: The authenticated client instance for Rapid API.\n",
    "    :param category_id: The places category of interest.\n",
    "    :return: Returns the analysis result as a spatially-enabled dataframe.\n",
    "    \"\"\"\n",
    "    analysis_result = analyze_walking(client, lat, lon, category_id)\n",
    "    return FeatureSet.from_geojson(analysis_result).sdf\n",
    "\n",
    "def project_center(map_view):\n",
    "    \"\"\"\n",
    "    Projects the center of the map view to WGS84 coordinates.\n",
    "    The map view must be fully initialized.\n",
    "    \n",
    "    :param map_view: The map view defining the area of interest.\n",
    "    :return: Returns the center as a tuple of latitude and longitude.\n",
    "    \"\"\"\n",
    "    # Project the map view center to WGS84\n",
    "    spatial_reference = map_view.center['spatialReference']\n",
    "    in_sr = spatial_reference['wkid']\n",
    "    out_sr = 4326\n",
    "    project_result = project([map_view.center], in_sr, out_sr)\n",
    "    location = project_result[0]\n",
    "    return location.y, location.x"
   ]
  },
  {
   "cell_type": "markdown",
   "id": "a7de42fa",
   "metadata": {},
   "source": [
    "## Define the categories of interest\n",
    "This line of code creates an instance of the `CategoryRegistry` class and assigns it to the `category_registry` variable. The `CategoryRegistry` instance can be used to manage and access different categories of places for the 15-minute city analysis."
   ]
  },
  {
   "cell_type": "code",
   "execution_count": null,
   "id": "53833da1",
   "metadata": {},
   "outputs": [],
   "source": [
    "category_registry = CategoryRegistry()"
   ]
  },
  {
   "cell_type": "markdown",
   "id": "949c95db",
   "metadata": {},
   "source": [
    "This line of code searches the `CategoryRegistry` instance for the category ID corresponding to the category name \"Museum\". The resulting ID is then assigned to the museum_id variable. This ID can be used in subsequent analysis or API calls to identify places related to museums."
   ]
  },
  {
   "cell_type": "code",
   "execution_count": null,
   "id": "3c5bb823",
   "metadata": {},
   "outputs": [],
   "source": [
    "museum_id = category_registry.find_id('Museum')\n",
    "school_id = category_registry.find_id('Primary and Secondary School')\n",
    "university_id = category_registry.find_id('College and University')\n",
    "restaurant_id = category_registry.find_id('Restaurant')\n",
    "cafe_id = category_registry.find_id('Cafe')\n",
    "bar_id = category_registry.find_id('Bar')\n",
    "park_id = category_registry.find_id('Park')\n",
    "sports_id = category_registry.find_id('Sports Club')\n",
    "residential_id = category_registry.find_id('Residential Building')\n",
    "office_id = category_registry.find_id('Office')\n",
    "retail_id = category_registry.find_id('Retail')\n",
    "transport_id = category_registry.find_id('Transport Hub')"
   ]
  },
  {
   "cell_type": "markdown",
   "id": "b2447c24",
   "metadata": {},
   "source": [
    "## Visualize the 15 minutes walking scenarios for various cities"
   ]
  },
  {
   "cell_type": "code",
   "execution_count": null,
   "id": "5965c2c1",
   "metadata": {},
   "outputs": [],
   "source": [
    "gis = GIS()"
   ]
  },
  {
   "cell_type": "code",
   "execution_count": null,
   "id": "7c368198",
   "metadata": {},
   "outputs": [],
   "source": [
    "def create_map_view(gis, named_location):\n",
    "    map_view = gis.map(named_location)\n",
    "    map_view.basemap = 'osm'\n",
    "    return map_view\n",
    "\n",
    "def display_two_map_views(left_map_view, right_map_view):\n",
    "    left_map_view.layout=Layout(flex='1 1', padding='6px', height='450px')\n",
    "    right_map_view.layout=Layout(flex='1 1', padding='6px', height='450px')\n",
    "\n",
    "    return HBox([left_map_view, right_map_view])"
   ]
  },
  {
   "cell_type": "code",
   "execution_count": null,
   "id": "b71dd637",
   "metadata": {},
   "outputs": [],
   "source": [
    "paris_map = create_map_view(gis, 'Paris, France')\n",
    "paris_map"
   ]
  },
  {
   "cell_type": "code",
   "execution_count": null,
   "id": "4f8f2a00",
   "metadata": {},
   "outputs": [],
   "source": [
    "plot_walking_areas(paris_map, client)"
   ]
  },
  {
   "cell_type": "code",
   "execution_count": null,
   "id": "55416004",
   "metadata": {},
   "outputs": [],
   "source": [
    "paris_map = create_map_view(gis, 'Paris, France')\n",
    "paris_map"
   ]
  },
  {
   "cell_type": "code",
   "execution_count": null,
   "id": "37fdb8e8",
   "metadata": {},
   "outputs": [],
   "source": [
    "plot_places_nearby(paris_map, client, museum_id)"
   ]
  },
  {
   "cell_type": "code",
   "execution_count": null,
   "id": "d6ea7c7c",
   "metadata": {},
   "outputs": [],
   "source": [
    "paris_map = create_map_view(gis, 'Paris, France')\n",
    "paris_map"
   ]
  },
  {
   "cell_type": "code",
   "execution_count": null,
   "id": "893f6d9a",
   "metadata": {},
   "outputs": [],
   "source": [
    "plot_walking_routes(paris_map, client, museum_id)"
   ]
  },
  {
   "cell_type": "code",
   "execution_count": null,
   "id": "5ee3affa",
   "metadata": {
    "scrolled": false
   },
   "outputs": [],
   "source": [
    "paris_map = create_map_view(gis, 'Paris, France')\n",
    "paris_map"
   ]
  },
  {
   "cell_type": "code",
   "execution_count": null,
   "id": "5bf23192",
   "metadata": {},
   "outputs": [],
   "source": [
    "paris_museum_sdf = plot_urban_walking(paris_map, client, museum_id)\n",
    "paris_museum_sdf"
   ]
  },
  {
   "cell_type": "code",
   "execution_count": null,
   "id": "e05796df",
   "metadata": {},
   "outputs": [],
   "source": [
    "barcelona_map = create_map_view(gis, 'Barcelona, Spain')\n",
    "barcelona_map"
   ]
  },
  {
   "cell_type": "code",
   "execution_count": null,
   "id": "d314d80e",
   "metadata": {},
   "outputs": [],
   "source": [
    "barcelona_museum_sdf = plot_urban_walking(barcelona_map, client, museum_id)\n",
    "barcelona_museum_sdf"
   ]
  },
  {
   "cell_type": "code",
   "execution_count": null,
   "id": "44284c11",
   "metadata": {
    "scrolled": false
   },
   "outputs": [],
   "source": [
    "display_two_map_views(paris_map, barcelona_map)"
   ]
  },
  {
   "cell_type": "markdown",
   "id": "b0efe7c3",
   "metadata": {},
   "source": [
    "## Visualize accessibility using seaborn\n",
    "Analyze walking areas for various cities.\n",
    "Requirements:\n",
    "- seaborn"
   ]
  },
  {
   "cell_type": "code",
   "execution_count": null,
   "id": "ad59894f",
   "metadata": {},
   "outputs": [],
   "source": [
    "import matplotlib.pyplot as plt\n",
    "import os\n",
    "import pandas as pd\n",
    "import seaborn as sns\n",
    "from tempfile import gettempdir"
   ]
  },
  {
   "cell_type": "code",
   "execution_count": null,
   "id": "64c79c6d",
   "metadata": {},
   "outputs": [],
   "source": [
    "named_categories = [{\n",
    "    'name': name,\n",
    "    'id': category_registry.find_id(name)\n",
    "} for name in [\n",
    "    'Museum', \n",
    "    'Primary and Secondary School', \n",
    "    'College and University', \n",
    "    'Restaurant', \n",
    "    'Cafe', \n",
    "    'Bar', \n",
    "    'Park', \n",
    "    'Sports Club', \n",
    "    'Residential Building', \n",
    "    'Office', \n",
    "    'Retail', \n",
    "    'Transport Hub'\n",
    "    ]\n",
    "]"
   ]
  },
  {
   "cell_type": "code",
   "execution_count": null,
   "id": "93aacfad",
   "metadata": {},
   "outputs": [],
   "source": [
    "def analyze_categories(named_locations, named_categories):\n",
    "    \"\"\"\n",
    "    Analyzes the named locations using the specified named categories.\n",
    "    \n",
    "    :param named_locations: Location having name, lat, and lon property.\n",
    "    :param named_categories: Category having name, and id property.\n",
    "    :return: Returns a pandas data frame representing the urban walking analysis results.\n",
    "    \"\"\"\n",
    "    named_values = {\n",
    "        'Location': []\n",
    "    }\n",
    "    for named_location in named_locations:\n",
    "        location = named_location['name']\n",
    "        lat = named_location['lat']\n",
    "        lon = named_location['lon']\n",
    "        named_values['Location'].append(location)\n",
    "        for category in named_categories:\n",
    "            analysis_sdf = analyze_urban_walking(lat, lon, client, category['id'])\n",
    "            if category['name'] in named_values:\n",
    "                values = named_values[category['name']]\n",
    "                values.append(analysis_sdf['hits'].astype('int32').sum())\n",
    "            else:\n",
    "                named_values[category['name']] = [analysis_sdf['hits'].astype('int32').sum()]\n",
    "\n",
    "    return pd.DataFrame(named_values)"
   ]
  },
  {
   "cell_type": "code",
   "execution_count": null,
   "id": "4014a265",
   "metadata": {},
   "outputs": [],
   "source": [
    "named_locations = [\n",
    "    {\n",
    "        'name': 'Paris, France',\n",
    "        'lat': 48.86376640243179,\n",
    "        'lon': 2.361657337\n",
    "    }, \n",
    "    {\n",
    "        'name': 'Barcelona, Spain',\n",
    "        'lat': 41.38796870966504,\n",
    "        'lon': 2.1699187\n",
    "    }\n",
    "]\n",
    "    \n",
    "category_df = analyze_categories(named_locations, named_categories)\n",
    "category_df"
   ]
  },
  {
   "cell_type": "code",
   "execution_count": 69,
   "id": "593c73d1",
   "metadata": {},
   "outputs": [
    {
     "data": {
      "image/png": "[encoded data removed]",
      "text/plain": [
       "<Figure size 1384.25x600 with 1 Axes>"
      ]
     },
     "metadata": {},
     "output_type": "display_data"
    }
   ],
   "source": [
    "# Melt the dataframe for seaborn\n",
    "df_melted = category_df.melt(id_vars='Location', var_name='Category', value_name='Count')\n",
    "\n",
    "# Create the catplot with adjusted labels and legend background\n",
    "sns.set(style=\"whitegrid\")\n",
    "g = sns.catplot(\n",
    "    data=df_melted, kind=\"bar\",\n",
    "    x=\"Category\", y=\"Count\", hue=\"Location\",\n",
    "    errorbar=None, palette=\"muted\", height=6, aspect=2\n",
    ")\n",
    "g.set_axis_labels(\"\", \"Count\")\n",
    "g.set_titles(\"Number of Accessible Places in Paris and Barcelona\")\n",
    "g.despine(left=True)\n",
    "plt.xticks(rotation=45, ha=\"right\", rotation_mode=\"anchor\")\n",
    "plt.title('Number of Accessible Places in Paris and Barcelona')\n",
    "plt.tight_layout()\n",
    "\n",
    "# Add a white background rectangle to the legend\n",
    "legend = g.legend\n",
    "legend.set_frame_on(True)\n",
    "legend.get_frame().set_facecolor('white')\n",
    "legend.get_frame().set_edgecolor('black')\n",
    "plt.show()"
   ]
  },
  {
   "cell_type": "code",
   "execution_count": null,
   "id": "84036b20",
   "metadata": {},
   "outputs": [],
   "source": [
    "def save_analysis_to_temp(df: pd.DataFrame, filename: str = 'urban_analysis.csv'):\n",
    "    \"\"\"\n",
    "    Saves the dataframe as csv file to the temp directory.\n",
    "    If the file existis it gets updated.\n",
    "    \n",
    "    :param df: The dataframe being saved.\n",
    "    :param filename: The name of the CSV file being written.\n",
    "    :return: The filepath of the CSF file.\n",
    "    \"\"\"\n",
    "    \n",
    "    # Define the path to the temporary folder\n",
    "    temp_folder = gettempdir()\n",
    "    file_path = os.path.join(temp_folder, filename)\n",
    "\n",
    "    # Check if the file exists\n",
    "    if os.path.exists(file_path):\n",
    "        # Read the existing data\n",
    "        existing_df = pd.read_csv(file_path)\n",
    "        \n",
    "        # Merge the dataframes, using 'Location' as the unique key\n",
    "        merged_df = pd.merge(existing_df, df, on='Location', how='outer', suffixes=('', '_new'))\n",
    "\n",
    "        # Update existing rows with new data\n",
    "        for column in df.columns:\n",
    "            if column != 'Location':\n",
    "                merged_df[column] = merged_df[column + '_new'].combine_first(merged_df[column])\n",
    "                merged_df.drop(columns=[column + '_new'], inplace=True)\n",
    "    else:\n",
    "        # If the file does not exist, use the provided dataframe\n",
    "        merged_df = df\n",
    "\n",
    "    # Save the merged dataframe to the temp folder\n",
    "    merged_df.to_csv(file_path, index=False)\n",
    "    return file_path"
   ]
  },
  {
   "cell_type": "code",
   "execution_count": null,
   "id": "a9c5dba2",
   "metadata": {},
   "outputs": [],
   "source": [
    "save_analysis_to_temp(category_df)"
   ]
  }
 ],
 "metadata": {
  "kernelspec": {
   "display_name": "Python 3 (ipykernel)",
   "language": "python",
   "name": "python3"
  },
  "language_info": {
   "codemirror_mode": {
    "name": "ipython",
    "version": 3
   },
   "file_extension": ".py",
   "mimetype": "text/x-python",
   "name": "python",
   "nbconvert_exporter": "python",
   "pygments_lexer": "ipython3",
   "version": "3.9.15"
  }
 },
 "nbformat": 4,
 "nbformat_minor": 5
}
