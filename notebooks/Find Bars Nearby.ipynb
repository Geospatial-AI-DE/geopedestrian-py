{
 "cells": [
  {
   "cell_type": "markdown",
   "id": "1f62c10f",
   "metadata": {},
   "source": [
    "# Find bars nearby soccer stadiums located in Germany"
   ]
  },
  {
   "cell_type": "code",
   "execution_count": null,
   "id": "f0d9ef53",
   "metadata": {},
   "outputs": [],
   "source": [
    "from arcgis.gis import GIS\n",
    "from arcgis.features import FeatureSet\n",
    "from geopedestrian.services import solve_walking, walk_to\n",
    "from georapid.client import GeoRapidClient\n",
    "from georapid.factory import EnvironmentClientFactory"
   ]
  },
  {
   "cell_type": "code",
   "execution_count": null,
   "id": "1f02b3e2",
   "metadata": {},
   "outputs": [],
   "source": [
    "class LocalClient(GeoRapidClient):\n",
    "    \n",
    "    def __init__(self, url, auth_headers):\n",
    "        pass\n",
    "    \n",
    "    @property\n",
    "    def auth_headers(self):\n",
    "        return None\n",
    "    \n",
    "    @property\n",
    "    def url(self):\n",
    "        return 'http://localhost:7071/api'"
   ]
  },
  {
   "cell_type": "markdown",
   "id": "5acbae0f",
   "metadata": {},
   "source": [
    "## Location of Olympiastadion, Berlin"
   ]
  },
  {
   "cell_type": "code",
   "execution_count": null,
   "id": "14b94ad8",
   "metadata": {},
   "outputs": [],
   "source": [
    "lat, lon = 52.514610, 13.239665"
   ]
  },
  {
   "cell_type": "code",
   "execution_count": null,
   "id": "9c973076",
   "metadata": {},
   "outputs": [],
   "source": [
    "client = LocalClient(None, None)"
   ]
  },
  {
   "cell_type": "code",
   "execution_count": null,
   "id": "36fbcd53",
   "metadata": {},
   "outputs": [],
   "source": [
    "walking_geojson = solve_walking(client, lat, lon)\n",
    "walking_fset = FeatureSet.from_geojson(walking_geojson)\n",
    "walking_fset.sdf"
   ]
  },
  {
   "cell_type": "code",
   "execution_count": null,
   "id": "1a916f6b",
   "metadata": {},
   "outputs": [],
   "source": [
    "gis = GIS()"
   ]
  },
  {
   "cell_type": "code",
   "execution_count": null,
   "id": "99f695be",
   "metadata": {},
   "outputs": [],
   "source": [
    "berlin_map = gis.map('Berlin, Germany')"
   ]
  },
  {
   "cell_type": "code",
   "execution_count": null,
   "id": "9ff0e358",
   "metadata": {},
   "outputs": [],
   "source": [
    "walking_fset.sdf.spatial.plot(berlin_map)\n",
    "berlin_map"
   ]
  },
  {
   "cell_type": "markdown",
   "id": "2f59b719",
   "metadata": {},
   "source": [
    "## Places Category Bars"
   ]
  },
  {
   "cell_type": "code",
   "execution_count": null,
   "id": "27925b85",
   "metadata": {},
   "outputs": [],
   "source": [
    "category = 13003\n",
    "walking_result = walk_to(client, lat, lon, category)\n",
    "places_geojson = walking_result['places']\n",
    "places_fset = FeatureSet.from_geojson(places_geojson)\n",
    "places_fset.sdf"
   ]
  },
  {
   "cell_type": "code",
   "execution_count": null,
   "id": "419d3a29",
   "metadata": {},
   "outputs": [],
   "source": [
    "places_fset.sdf.spatial.plot(berlin_map)\n",
    "berlin_map"
   ]
  },
  {
   "cell_type": "code",
   "execution_count": null,
   "id": "1736940b",
   "metadata": {},
   "outputs": [],
   "source": [
    "routes_geojson = walking_result['routes']\n",
    "routes_fset = FeatureSet.from_geojson(routes_geojson)\n",
    "routes_fset.sdf"
   ]
  },
  {
   "cell_type": "code",
   "execution_count": null,
   "id": "c7d3aff2",
   "metadata": {},
   "outputs": [],
   "source": [
    "routes_fset.sdf.spatial.plot(berlin_map)\n",
    "berlin_map"
   ]
  },
  {
   "cell_type": "code",
   "execution_count": null,
   "id": "b3fb52c2",
   "metadata": {},
   "outputs": [],
   "source": []
  }
 ],
 "metadata": {
  "kernelspec": {
   "display_name": "Python 3 (ipykernel)",
   "language": "python",
   "name": "python3"
  },
  "language_info": {
   "codemirror_mode": {
    "name": "ipython",
    "version": 3
   },
   "file_extension": ".py",
   "mimetype": "text/x-python",
   "name": "python",
   "nbconvert_exporter": "python",
   "pygments_lexer": "ipython3",
   "version": "3.9.15"
  }
 },
 "nbformat": 4,
 "nbformat_minor": 5
}
