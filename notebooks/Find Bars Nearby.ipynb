{
 "cells": [
  {
   "cell_type": "markdown",
   "id": "1f62c10f",
   "metadata": {},
   "source": [
    "# Find bars nearby soccer stadiums located in Germany"
   ]
  },
  {
   "cell_type": "code",
   "execution_count": 1,
   "id": "f0d9ef53",
   "metadata": {},
   "outputs": [],
   "source": [
    "from arcgis.gis import GIS\n",
    "from arcgis.features import FeatureSet\n",
    "from geopedestrian.services import drive_from, solve_walking, walk_to\n",
    "from georapid.client import GeoRapidClient\n",
    "from georapid.factory import EnvironmentClientFactory"
   ]
  },
  {
   "cell_type": "code",
   "execution_count": 2,
   "id": "1f02b3e2",
   "metadata": {},
   "outputs": [],
   "source": [
    "class LocalClient(GeoRapidClient):\n",
    "    \n",
    "    def __init__(self, url, auth_headers):\n",
    "        pass\n",
    "    \n",
    "    @property\n",
    "    def auth_headers(self):\n",
    "        return None\n",
    "    \n",
    "    @property\n",
    "    def url(self):\n",
    "        return 'http://localhost:7071/api'"
   ]
  },
  {
   "cell_type": "markdown",
   "id": "3016d24c",
   "metadata": {},
   "source": [
    "## If in debug mode using localhost"
   ]
  },
  {
   "cell_type": "code",
   "execution_count": 4,
   "id": "9c973076",
   "metadata": {},
   "outputs": [
    {
     "ename": "TypeError",
     "evalue": "__init__() missing 2 required positional arguments: 'url' and 'auth_headers'",
     "output_type": "error",
     "traceback": [
      "\u001b[0;31m---------------------------------------------------------------------------\u001b[0m",
      "\u001b[0;31mTypeError\u001b[0m                                 Traceback (most recent call last)",
      "Cell \u001b[0;32mIn[4], line 2\u001b[0m\n\u001b[1;32m      1\u001b[0m \u001b[38;5;66;03m#client = LocalClient(None, None)\u001b[39;00m\n\u001b[0;32m----> 2\u001b[0m client \u001b[38;5;241m=\u001b[39m \u001b[43mGeoRapidClient\u001b[49m\u001b[43m(\u001b[49m\u001b[43m)\u001b[49m\n",
      "\u001b[0;31mTypeError\u001b[0m: __init__() missing 2 required positional arguments: 'url' and 'auth_headers'"
     ]
    }
   ],
   "source": [
    "client = LocalClient(None, None)"
   ]
  },
  {
   "cell_type": "markdown",
   "id": "f2345737",
   "metadata": {},
   "source": [
    "## If using the cloud service being hosted on RapidAPI"
   ]
  },
  {
   "cell_type": "code",
   "execution_count": 6,
   "id": "94b19102",
   "metadata": {},
   "outputs": [],
   "source": [
    "host = 'geopedestrian.p.rapidapi.com'\n",
    "client: GeoRapidClient = EnvironmentClientFactory.create_client_with_host(host)"
   ]
  },
  {
   "cell_type": "markdown",
   "id": "5acbae0f",
   "metadata": {},
   "source": [
    "## Location of Olympiastadion, Berlin"
   ]
  },
  {
   "cell_type": "code",
   "execution_count": 19,
   "id": "14b94ad8",
   "metadata": {},
   "outputs": [],
   "source": [
    "lat, lon = 52.514610, 13.239665"
   ]
  },
  {
   "cell_type": "code",
   "execution_count": 20,
   "id": "36fbcd53",
   "metadata": {},
   "outputs": [
    {
     "data": {
      "text/html": [
       "<div>\n",
       "<style scoped>\n",
       "    .dataframe tbody tr th:only-of-type {\n",
       "        vertical-align: middle;\n",
       "    }\n",
       "\n",
       "    .dataframe tbody tr th {\n",
       "        vertical-align: top;\n",
       "    }\n",
       "\n",
       "    .dataframe thead th {\n",
       "        text-align: right;\n",
       "    }\n",
       "</style>\n",
       "<table border=\"1\" class=\"dataframe\">\n",
       "  <thead>\n",
       "    <tr style=\"text-align: right;\">\n",
       "      <th></th>\n",
       "      <th>ObjectID</th>\n",
       "      <th>FacilityID</th>\n",
       "      <th>Name</th>\n",
       "      <th>FromBreak</th>\n",
       "      <th>ToBreak</th>\n",
       "      <th>Shape_Length</th>\n",
       "      <th>Shape_Area</th>\n",
       "      <th>SHAPE</th>\n",
       "    </tr>\n",
       "  </thead>\n",
       "  <tbody>\n",
       "    <tr>\n",
       "      <th>0</th>\n",
       "      <td>1</td>\n",
       "      <td>1</td>\n",
       "      <td>Location 1 : 10 - 15</td>\n",
       "      <td>10</td>\n",
       "      <td>15</td>\n",
       "      <td>0.15438372101428938</td>\n",
       "      <td>0.00016588132385536136</td>\n",
       "      <td>{\"rings\": [[[13.241466144000071, 52.5223607870...</td>\n",
       "    </tr>\n",
       "    <tr>\n",
       "      <th>1</th>\n",
       "      <td>2</td>\n",
       "      <td>1</td>\n",
       "      <td>Location 1 : 5 - 10</td>\n",
       "      <td>5</td>\n",
       "      <td>10</td>\n",
       "      <td>0.09693572565674625</td>\n",
       "      <td>8.546242622503289e-05</td>\n",
       "      <td>{\"rings\": [[[13.241915299000027, 52.5194412760...</td>\n",
       "    </tr>\n",
       "    <tr>\n",
       "      <th>2</th>\n",
       "      <td>3</td>\n",
       "      <td>1</td>\n",
       "      <td>Location 1 : 0 - 5</td>\n",
       "      <td>0</td>\n",
       "      <td>5</td>\n",
       "      <td>0.028781889442187052</td>\n",
       "      <td>2.7108911552395858e-05</td>\n",
       "      <td>{\"rings\": [[[13.241466144000071, 52.5165217650...</td>\n",
       "    </tr>\n",
       "  </tbody>\n",
       "</table>\n",
       "</div>"
      ],
      "text/plain": [
       "   ObjectID FacilityID                  Name FromBreak ToBreak  \\\n",
       "0         1          1  Location 1 : 10 - 15        10      15   \n",
       "1         2          1   Location 1 : 5 - 10         5      10   \n",
       "2         3          1    Location 1 : 0 - 5         0       5   \n",
       "\n",
       "           Shape_Length              Shape_Area  \\\n",
       "0   0.15438372101428938  0.00016588132385536136   \n",
       "1   0.09693572565674625   8.546242622503289e-05   \n",
       "2  0.028781889442187052  2.7108911552395858e-05   \n",
       "\n",
       "                                               SHAPE  \n",
       "0  {\"rings\": [[[13.241466144000071, 52.5223607870...  \n",
       "1  {\"rings\": [[[13.241915299000027, 52.5194412760...  \n",
       "2  {\"rings\": [[[13.241466144000071, 52.5165217650...  "
      ]
     },
     "execution_count": 20,
     "metadata": {},
     "output_type": "execute_result"
    }
   ],
   "source": [
    "walking_geojson = solve_walking(client, lat, lon)\n",
    "walking_fset = FeatureSet.from_geojson(walking_geojson)\n",
    "walking_fset.sdf"
   ]
  },
  {
   "cell_type": "code",
   "execution_count": 21,
   "id": "1a916f6b",
   "metadata": {},
   "outputs": [],
   "source": [
    "gis = GIS()"
   ]
  },
  {
   "cell_type": "code",
   "execution_count": 22,
   "id": "99f695be",
   "metadata": {},
   "outputs": [],
   "source": [
    "berlin_map = gis.map('Berlin, Germany')"
   ]
  },
  {
   "cell_type": "code",
   "execution_count": 23,
   "id": "9ff0e358",
   "metadata": {},
   "outputs": [
    {
     "data": {
      "application/vnd.jupyter.widget-view+json": {
       "model_id": "3f4489627c05463a8562b38b93773e8e",
       "version_major": 2,
       "version_minor": 0
      },
      "text/plain": [
       "MapView(layout=Layout(height='400px', width='100%'))"
      ]
     },
     "metadata": {},
     "output_type": "display_data"
    },
    {
     "data": {
      "text/html": [
       "<div class=\"map-static-img-preview-2de7a23b-83d8-479a-8717-f701b6848098\"><img src=\"\"></img></div>"
      ],
      "text/plain": [
       "<IPython.core.display.HTML object>"
      ]
     },
     "metadata": {},
     "output_type": "display_data"
    },
    {
     "data": {
      "text/html": [
       "<div class=\"map-html-embed-preview-2de7a23b-83d8-479a-8717-f701b6848098\"></div>"
      ],
      "text/plain": [
       "<IPython.core.display.HTML object>"
      ]
     },
     "metadata": {},
     "output_type": "display_data"
    }
   ],
   "source": [
    "walking_fset.sdf.spatial.plot(berlin_map)\n",
    "berlin_map"
   ]
  },
  {
   "cell_type": "markdown",
   "id": "2f59b719",
   "metadata": {},
   "source": [
    "## Places Category Bars"
   ]
  },
  {
   "cell_type": "code",
   "execution_count": 25,
   "id": "27925b85",
   "metadata": {},
   "outputs": [
    {
     "data": {
      "text/html": [
       "<div>\n",
       "<style scoped>\n",
       "    .dataframe tbody tr th:only-of-type {\n",
       "        vertical-align: middle;\n",
       "    }\n",
       "\n",
       "    .dataframe tbody tr th {\n",
       "        vertical-align: top;\n",
       "    }\n",
       "\n",
       "    .dataframe thead th {\n",
       "        text-align: right;\n",
       "    }\n",
       "</style>\n",
       "<table border=\"1\" class=\"dataframe\">\n",
       "  <thead>\n",
       "    <tr style=\"text-align: right;\">\n",
       "      <th></th>\n",
       "      <th>placeId</th>\n",
       "      <th>name</th>\n",
       "      <th>from</th>\n",
       "      <th>to</th>\n",
       "      <th>OBJECTID</th>\n",
       "      <th>SHAPE</th>\n",
       "    </tr>\n",
       "  </thead>\n",
       "  <tbody>\n",
       "    <tr>\n",
       "      <th>0</th>\n",
       "      <td>5cde1c9e2ea35f16f014c2f138a3f67d</td>\n",
       "      <td>Jesse Owens Lounge</td>\n",
       "      <td>0</td>\n",
       "      <td>5</td>\n",
       "      <td>1</td>\n",
       "      <td>{\"x\": 13.239891, \"y\": 52.513868, \"spatialRefer...</td>\n",
       "    </tr>\n",
       "    <tr>\n",
       "      <th>1</th>\n",
       "      <td>adc3424f4bb5b49b592375c80335f58c</td>\n",
       "      <td>Olympia-Lounge</td>\n",
       "      <td>0</td>\n",
       "      <td>5</td>\n",
       "      <td>2</td>\n",
       "      <td>{\"x\": 13.239891, \"y\": 52.513868, \"spatialRefer...</td>\n",
       "    </tr>\n",
       "    <tr>\n",
       "      <th>2</th>\n",
       "      <td>f4b6b2028a398e02f8ce89504e6ec964</td>\n",
       "      <td>Players Lounge</td>\n",
       "      <td>0</td>\n",
       "      <td>5</td>\n",
       "      <td>3</td>\n",
       "      <td>{\"x\": 13.239693, \"y\": 52.514409, \"spatialRefer...</td>\n",
       "    </tr>\n",
       "  </tbody>\n",
       "</table>\n",
       "</div>"
      ],
      "text/plain": [
       "                            placeId                name from to  OBJECTID  \\\n",
       "0  5cde1c9e2ea35f16f014c2f138a3f67d  Jesse Owens Lounge    0  5         1   \n",
       "1  adc3424f4bb5b49b592375c80335f58c      Olympia-Lounge    0  5         2   \n",
       "2  f4b6b2028a398e02f8ce89504e6ec964      Players Lounge    0  5         3   \n",
       "\n",
       "                                               SHAPE  \n",
       "0  {\"x\": 13.239891, \"y\": 52.513868, \"spatialRefer...  \n",
       "1  {\"x\": 13.239891, \"y\": 52.513868, \"spatialRefer...  \n",
       "2  {\"x\": 13.239693, \"y\": 52.514409, \"spatialRefer...  "
      ]
     },
     "execution_count": 25,
     "metadata": {},
     "output_type": "execute_result"
    }
   ],
   "source": [
    "category = 13003\n",
    "walking_result = walk_to(client, lat, lon, category)\n",
    "places_geojson = walking_result['places']\n",
    "places_fset = FeatureSet.from_geojson(places_geojson)\n",
    "places_fset.sdf"
   ]
  },
  {
   "cell_type": "code",
   "execution_count": 13,
   "id": "419d3a29",
   "metadata": {},
   "outputs": [
    {
     "data": {
      "application/vnd.jupyter.widget-view+json": {
       "model_id": "00e4c71089b4419d936fb6eb4d229378",
       "version_major": 2,
       "version_minor": 0
      },
      "text/plain": [
       "MapView(jupyter_target='notebook', layout=Layout(height='400px', width='100%'), ready=True)"
      ]
     },
     "metadata": {},
     "output_type": "display_data"
    },
    {
     "data": {
      "text/html": [
       "<div class=\"map-static-img-preview-00fa1ef1-53d9-48fe-9d54-465ead9a6695\"><img src=\"\"></img></div>"
      ],
      "text/plain": [
       "<IPython.core.display.HTML object>"
      ]
     },
     "metadata": {},
     "output_type": "display_data"
    },
    {
     "data": {
      "text/html": [
       "<div class=\"map-html-embed-preview-00fa1ef1-53d9-48fe-9d54-465ead9a6695\"></div>"
      ],
      "text/plain": [
       "<IPython.core.display.HTML object>"
      ]
     },
     "metadata": {},
     "output_type": "display_data"
    }
   ],
   "source": [
    "places_fset.sdf.spatial.plot(berlin_map)\n",
    "berlin_map"
   ]
  },
  {
   "cell_type": "code",
   "execution_count": 14,
   "id": "1736940b",
   "metadata": {},
   "outputs": [
    {
     "data": {
      "text/html": [
       "<div>\n",
       "<style scoped>\n",
       "    .dataframe tbody tr th:only-of-type {\n",
       "        vertical-align: middle;\n",
       "    }\n",
       "\n",
       "    .dataframe tbody tr th {\n",
       "        vertical-align: top;\n",
       "    }\n",
       "\n",
       "    .dataframe thead th {\n",
       "        text-align: right;\n",
       "    }\n",
       "</style>\n",
       "<table border=\"1\" class=\"dataframe\">\n",
       "  <thead>\n",
       "    <tr style=\"text-align: right;\">\n",
       "      <th></th>\n",
       "      <th>name</th>\n",
       "      <th>total_minutes</th>\n",
       "      <th>total_kilometers</th>\n",
       "      <th>OBJECTID</th>\n",
       "      <th>SHAPE</th>\n",
       "    </tr>\n",
       "  </thead>\n",
       "  <tbody>\n",
       "    <tr>\n",
       "      <th>0</th>\n",
       "      <td>Location 1 - Players Lounge</td>\n",
       "      <td>0.07</td>\n",
       "      <td>0.01</td>\n",
       "      <td>1</td>\n",
       "      <td>{\"paths\": [[[13.23969456900005, 52.51360921700...</td>\n",
       "    </tr>\n",
       "    <tr>\n",
       "      <th>1</th>\n",
       "      <td>Location 1 - Jesse Owens Lounge</td>\n",
       "      <td>0.21</td>\n",
       "      <td>0.02</td>\n",
       "      <td>2</td>\n",
       "      <td>{\"paths\": [[[13.23969456900005, 52.51360921700...</td>\n",
       "    </tr>\n",
       "    <tr>\n",
       "      <th>2</th>\n",
       "      <td>Location 1 - Olympia-Lounge</td>\n",
       "      <td>0.21</td>\n",
       "      <td>0.02</td>\n",
       "      <td>3</td>\n",
       "      <td>{\"paths\": [[[13.23969456900005, 52.51360921700...</td>\n",
       "    </tr>\n",
       "  </tbody>\n",
       "</table>\n",
       "</div>"
      ],
      "text/plain": [
       "                              name total_minutes total_kilometers  OBJECTID  \\\n",
       "0      Location 1 - Players Lounge          0.07             0.01         1   \n",
       "1  Location 1 - Jesse Owens Lounge          0.21             0.02         2   \n",
       "2      Location 1 - Olympia-Lounge          0.21             0.02         3   \n",
       "\n",
       "                                               SHAPE  \n",
       "0  {\"paths\": [[[13.23969456900005, 52.51360921700...  \n",
       "1  {\"paths\": [[[13.23969456900005, 52.51360921700...  \n",
       "2  {\"paths\": [[[13.23969456900005, 52.51360921700...  "
      ]
     },
     "execution_count": 14,
     "metadata": {},
     "output_type": "execute_result"
    }
   ],
   "source": [
    "routes_geojson = walking_result['routes']\n",
    "routes_fset = FeatureSet.from_geojson(routes_geojson)\n",
    "routes_fset.sdf"
   ]
  },
  {
   "cell_type": "code",
   "execution_count": 15,
   "id": "c7d3aff2",
   "metadata": {},
   "outputs": [
    {
     "data": {
      "application/vnd.jupyter.widget-view+json": {
       "model_id": "00e4c71089b4419d936fb6eb4d229378",
       "version_major": 2,
       "version_minor": 0
      },
      "text/plain": [
       "MapView(jupyter_target='notebook', layout=Layout(height='400px', width='100%'), ready=True)"
      ]
     },
     "metadata": {},
     "output_type": "display_data"
    },
    {
     "data": {
      "text/html": [
       "<div class=\"map-static-img-preview-00fa1ef1-53d9-48fe-9d54-465ead9a6695\"><img src=\"\"></img></div>"
      ],
      "text/plain": [
       "<IPython.core.display.HTML object>"
      ]
     },
     "metadata": {},
     "output_type": "display_data"
    },
    {
     "data": {
      "text/html": [
       "<div class=\"map-html-embed-preview-00fa1ef1-53d9-48fe-9d54-465ead9a6695\"></div>"
      ],
      "text/plain": [
       "<IPython.core.display.HTML object>"
      ]
     },
     "metadata": {},
     "output_type": "display_data"
    }
   ],
   "source": [
    "routes_fset.sdf.spatial.plot(berlin_map)\n",
    "berlin_map"
   ]
  },
  {
   "cell_type": "markdown",
   "id": "fe609b6f",
   "metadata": {},
   "source": [
    "## Places Ambulance Service"
   ]
  },
  {
   "cell_type": "code",
   "execution_count": 27,
   "id": "f38f17b1",
   "metadata": {},
   "outputs": [
    {
     "data": {
      "text/html": [
       "<div>\n",
       "<style scoped>\n",
       "    .dataframe tbody tr th:only-of-type {\n",
       "        vertical-align: middle;\n",
       "    }\n",
       "\n",
       "    .dataframe tbody tr th {\n",
       "        vertical-align: top;\n",
       "    }\n",
       "\n",
       "    .dataframe thead th {\n",
       "        text-align: right;\n",
       "    }\n",
       "</style>\n",
       "<table border=\"1\" class=\"dataframe\">\n",
       "  <thead>\n",
       "    <tr style=\"text-align: right;\">\n",
       "      <th></th>\n",
       "      <th>placeId</th>\n",
       "      <th>name</th>\n",
       "      <th>from</th>\n",
       "      <th>to</th>\n",
       "      <th>OBJECTID</th>\n",
       "      <th>SHAPE</th>\n",
       "    </tr>\n",
       "  </thead>\n",
       "  <tbody>\n",
       "    <tr>\n",
       "      <th>0</th>\n",
       "      <td>0a9655f16f4cc02666df5af7a9bfc70f</td>\n",
       "      <td>Krankentransport ASB Regionalverband Nordost</td>\n",
       "      <td>0</td>\n",
       "      <td>5</td>\n",
       "      <td>1</td>\n",
       "      <td>{\"x\": 13.356262, \"y\": 52.498727, \"spatialRefer...</td>\n",
       "    </tr>\n",
       "    <tr>\n",
       "      <th>1</th>\n",
       "      <td>cb35611a9f5632113cc5b5582db4370c</td>\n",
       "      <td>Blitz-Mobil Fahrdienst UG</td>\n",
       "      <td>5</td>\n",
       "      <td>15</td>\n",
       "      <td>2</td>\n",
       "      <td>{\"x\": 13.334868, \"y\": 52.4954, \"spatialReferen...</td>\n",
       "    </tr>\n",
       "  </tbody>\n",
       "</table>\n",
       "</div>"
      ],
      "text/plain": [
       "                            placeId  \\\n",
       "0  0a9655f16f4cc02666df5af7a9bfc70f   \n",
       "1  cb35611a9f5632113cc5b5582db4370c   \n",
       "\n",
       "                                           name from  to  OBJECTID  \\\n",
       "0  Krankentransport ASB Regionalverband Nordost    0   5         1   \n",
       "1                     Blitz-Mobil Fahrdienst UG    5  15         2   \n",
       "\n",
       "                                               SHAPE  \n",
       "0  {\"x\": 13.356262, \"y\": 52.498727, \"spatialRefer...  \n",
       "1  {\"x\": 13.334868, \"y\": 52.4954, \"spatialReferen...  "
      ]
     },
     "execution_count": 27,
     "metadata": {},
     "output_type": "execute_result"
    }
   ],
   "source": [
    "ambulance_category = 15009\n",
    "near_lat, near_lon = 52.5062753, 13.3454184\n",
    "driving_result = drive_from(client, near_lat, near_lon, ambulance_category)\n",
    "places_geojson = driving_result['places']\n",
    "places_fset = FeatureSet.from_geojson(places_geojson)\n",
    "places_fset.sdf"
   ]
  },
  {
   "cell_type": "code",
   "execution_count": 17,
   "id": "4d2a3c01",
   "metadata": {},
   "outputs": [
    {
     "data": {
      "text/html": [
       "<div>\n",
       "<style scoped>\n",
       "    .dataframe tbody tr th:only-of-type {\n",
       "        vertical-align: middle;\n",
       "    }\n",
       "\n",
       "    .dataframe tbody tr th {\n",
       "        vertical-align: top;\n",
       "    }\n",
       "\n",
       "    .dataframe thead th {\n",
       "        text-align: right;\n",
       "    }\n",
       "</style>\n",
       "<table border=\"1\" class=\"dataframe\">\n",
       "  <thead>\n",
       "    <tr style=\"text-align: right;\">\n",
       "      <th></th>\n",
       "      <th>name</th>\n",
       "      <th>total_minutes</th>\n",
       "      <th>total_kilometers</th>\n",
       "      <th>OBJECTID</th>\n",
       "      <th>SHAPE</th>\n",
       "    </tr>\n",
       "  </thead>\n",
       "  <tbody>\n",
       "    <tr>\n",
       "      <th>0</th>\n",
       "      <td>Krankentransport ASB Regionalverband Nordost -...</td>\n",
       "      <td>5.11</td>\n",
       "      <td>1.8</td>\n",
       "      <td>1</td>\n",
       "      <td>{\"paths\": [[[13.356293522000044, 52.4988830670...</td>\n",
       "    </tr>\n",
       "    <tr>\n",
       "      <th>1</th>\n",
       "      <td>Blitz-Mobil Fahrdienst UG - Location 1</td>\n",
       "      <td>5.51</td>\n",
       "      <td>1.59</td>\n",
       "      <td>2</td>\n",
       "      <td>{\"paths\": [[[13.334616023000024, 52.4953933130...</td>\n",
       "    </tr>\n",
       "  </tbody>\n",
       "</table>\n",
       "</div>"
      ],
      "text/plain": [
       "                                                name total_minutes  \\\n",
       "0  Krankentransport ASB Regionalverband Nordost -...          5.11   \n",
       "1             Blitz-Mobil Fahrdienst UG - Location 1          5.51   \n",
       "\n",
       "  total_kilometers  OBJECTID  \\\n",
       "0              1.8         1   \n",
       "1             1.59         2   \n",
       "\n",
       "                                               SHAPE  \n",
       "0  {\"paths\": [[[13.356293522000044, 52.4988830670...  \n",
       "1  {\"paths\": [[[13.334616023000024, 52.4953933130...  "
      ]
     },
     "execution_count": 17,
     "metadata": {},
     "output_type": "execute_result"
    }
   ],
   "source": [
    "routes_geojson = driving_result['routes']\n",
    "routes_fset = FeatureSet.from_geojson(routes_geojson)\n",
    "routes_fset.sdf"
   ]
  },
  {
   "cell_type": "code",
   "execution_count": 18,
   "id": "390f72b6",
   "metadata": {},
   "outputs": [
    {
     "data": {
      "application/vnd.jupyter.widget-view+json": {
       "model_id": "00e4c71089b4419d936fb6eb4d229378",
       "version_major": 2,
       "version_minor": 0
      },
      "text/plain": [
       "MapView(jupyter_target='notebook', layout=Layout(height='400px', width='100%'), ready=True)"
      ]
     },
     "metadata": {},
     "output_type": "display_data"
    },
    {
     "data": {
      "text/html": [
       "<div class=\"map-static-img-preview-00fa1ef1-53d9-48fe-9d54-465ead9a6695\"><img src=\"\"></img></div>"
      ],
      "text/plain": [
       "<IPython.core.display.HTML object>"
      ]
     },
     "metadata": {},
     "output_type": "display_data"
    },
    {
     "data": {
      "text/html": [
       "<div class=\"map-html-embed-preview-00fa1ef1-53d9-48fe-9d54-465ead9a6695\"></div>"
      ],
      "text/plain": [
       "<IPython.core.display.HTML object>"
      ]
     },
     "metadata": {},
     "output_type": "display_data"
    }
   ],
   "source": [
    "routes_fset.sdf.spatial.plot(berlin_map)\n",
    "berlin_map"
   ]
  },
  {
   "cell_type": "code",
   "execution_count": null,
   "id": "e5ef8b15",
   "metadata": {},
   "outputs": [],
   "source": []
  }
 ],
 "metadata": {
  "kernelspec": {
   "display_name": "Python 3 (ipykernel)",
   "language": "python",
   "name": "python3"
  },
  "language_info": {
   "codemirror_mode": {
    "name": "ipython",
    "version": 3
   },
   "file_extension": ".py",
   "mimetype": "text/x-python",
   "name": "python",
   "nbconvert_exporter": "python",
   "pygments_lexer": "ipython3",
   "version": "3.9.15"
  }
 },
 "nbformat": 4,
 "nbformat_minor": 5
}
