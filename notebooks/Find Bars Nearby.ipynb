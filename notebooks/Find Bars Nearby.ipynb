{
 "cells": [
  {
   "cell_type": "markdown",
   "id": "1f62c10f",
   "metadata": {},
   "source": [
    "# Find bars nearby soccer stadiums located in Germany"
   ]
  },
  {
   "cell_type": "code",
   "execution_count": 1,
   "id": "f0d9ef53",
   "metadata": {},
   "outputs": [],
   "source": [
    "from arcgis.gis import GIS\n",
    "from arcgis.features import FeatureSet\n",
    "from geopedestrian.services import solve_walking\n",
    "from georapid.client import GeoRapidClient\n",
    "from georapid.factory import EnvironmentClientFactory"
   ]
  },
  {
   "cell_type": "code",
   "execution_count": 2,
   "id": "1f02b3e2",
   "metadata": {},
   "outputs": [],
   "source": [
    "class LocalClient(GeoRapidClient):\n",
    "    \n",
    "    def __init__(self, url, auth_headers):\n",
    "        pass\n",
    "    \n",
    "    @property\n",
    "    def auth_headers(self):\n",
    "        return None\n",
    "    \n",
    "    @property\n",
    "    def url(self):\n",
    "        return 'http://localhost:7071/api'"
   ]
  },
  {
   "cell_type": "markdown",
   "id": "5acbae0f",
   "metadata": {},
   "source": [
    "## Location of Olympiastadion, Berlin"
   ]
  },
  {
   "cell_type": "code",
   "execution_count": 3,
   "id": "14b94ad8",
   "metadata": {},
   "outputs": [],
   "source": [
    "lat, lon = 52.514610, 13.239665"
   ]
  },
  {
   "cell_type": "code",
   "execution_count": 4,
   "id": "9c973076",
   "metadata": {},
   "outputs": [],
   "source": [
    "client = LocalClient(None, None)"
   ]
  },
  {
   "cell_type": "code",
   "execution_count": 9,
   "id": "36fbcd53",
   "metadata": {},
   "outputs": [
    {
     "data": {
      "text/html": [
       "<div>\n",
       "<style scoped>\n",
       "    .dataframe tbody tr th:only-of-type {\n",
       "        vertical-align: middle;\n",
       "    }\n",
       "\n",
       "    .dataframe tbody tr th {\n",
       "        vertical-align: top;\n",
       "    }\n",
       "\n",
       "    .dataframe thead th {\n",
       "        text-align: right;\n",
       "    }\n",
       "</style>\n",
       "<table border=\"1\" class=\"dataframe\">\n",
       "  <thead>\n",
       "    <tr style=\"text-align: right;\">\n",
       "      <th></th>\n",
       "      <th>ObjectID</th>\n",
       "      <th>FacilityID</th>\n",
       "      <th>Name</th>\n",
       "      <th>FromBreak</th>\n",
       "      <th>ToBreak</th>\n",
       "      <th>Shape_Length</th>\n",
       "      <th>Shape_Area</th>\n",
       "      <th>SHAPE</th>\n",
       "    </tr>\n",
       "  </thead>\n",
       "  <tbody>\n",
       "    <tr>\n",
       "      <th>0</th>\n",
       "      <td>1</td>\n",
       "      <td>1</td>\n",
       "      <td>Location 1 : 10 - 15</td>\n",
       "      <td>10</td>\n",
       "      <td>15</td>\n",
       "      <td>0.15438372101428938</td>\n",
       "      <td>0.00016588132385536136</td>\n",
       "      <td>{\"rings\": [[[13.241466144000071, 52.5223607870...</td>\n",
       "    </tr>\n",
       "    <tr>\n",
       "      <th>1</th>\n",
       "      <td>2</td>\n",
       "      <td>1</td>\n",
       "      <td>Location 1 : 5 - 10</td>\n",
       "      <td>5</td>\n",
       "      <td>10</td>\n",
       "      <td>0.09693572565674625</td>\n",
       "      <td>8.546242622503289e-05</td>\n",
       "      <td>{\"rings\": [[[13.241915299000027, 52.5194412760...</td>\n",
       "    </tr>\n",
       "    <tr>\n",
       "      <th>2</th>\n",
       "      <td>3</td>\n",
       "      <td>1</td>\n",
       "      <td>Location 1 : 0 - 5</td>\n",
       "      <td>0</td>\n",
       "      <td>5</td>\n",
       "      <td>0.028781889442187052</td>\n",
       "      <td>2.7108911552395858e-05</td>\n",
       "      <td>{\"rings\": [[[13.241466144000071, 52.5165217650...</td>\n",
       "    </tr>\n",
       "  </tbody>\n",
       "</table>\n",
       "</div>"
      ],
      "text/plain": [
       "   ObjectID FacilityID                  Name FromBreak ToBreak  \\\n",
       "0         1          1  Location 1 : 10 - 15        10      15   \n",
       "1         2          1   Location 1 : 5 - 10         5      10   \n",
       "2         3          1    Location 1 : 0 - 5         0       5   \n",
       "\n",
       "           Shape_Length              Shape_Area  \\\n",
       "0   0.15438372101428938  0.00016588132385536136   \n",
       "1   0.09693572565674625   8.546242622503289e-05   \n",
       "2  0.028781889442187052  2.7108911552395858e-05   \n",
       "\n",
       "                                               SHAPE  \n",
       "0  {\"rings\": [[[13.241466144000071, 52.5223607870...  \n",
       "1  {\"rings\": [[[13.241915299000027, 52.5194412760...  \n",
       "2  {\"rings\": [[[13.241466144000071, 52.5165217650...  "
      ]
     },
     "execution_count": 9,
     "metadata": {},
     "output_type": "execute_result"
    }
   ],
   "source": [
    "walking_geojson = solve_walking(client, lat, lon)\n",
    "walking_fset = FeatureSet.from_geojson(walking_geojson)\n",
    "walking_fset.sdf"
   ]
  },
  {
   "cell_type": "code",
   "execution_count": 7,
   "id": "1a916f6b",
   "metadata": {},
   "outputs": [],
   "source": [
    "gis = GIS()"
   ]
  },
  {
   "cell_type": "code",
   "execution_count": 8,
   "id": "99f695be",
   "metadata": {},
   "outputs": [],
   "source": [
    "berlin_map = gis.map('Berlin, Germany')"
   ]
  },
  {
   "cell_type": "code",
   "execution_count": 10,
   "id": "9ff0e358",
   "metadata": {},
   "outputs": [
    {
     "data": {
      "application/vnd.jupyter.widget-view+json": {
       "model_id": "038f7cd7befc4e42bfb16b36316e6041",
       "version_major": 2,
       "version_minor": 0
      },
      "text/plain": [
       "MapView(layout=Layout(height='400px', width='100%'))"
      ]
     },
     "metadata": {},
     "output_type": "display_data"
    },
    {
     "data": {
      "text/html": [
       "<div class=\"map-static-img-preview-3428e455-7030-45ca-8643-d7ea0eec2994\"><img src=\"\"></img></div>"
      ],
      "text/plain": [
       "<IPython.core.display.HTML object>"
      ]
     },
     "metadata": {},
     "output_type": "display_data"
    },
    {
     "data": {
      "text/html": [
       "<div class=\"map-html-embed-preview-3428e455-7030-45ca-8643-d7ea0eec2994\"></div>"
      ],
      "text/plain": [
       "<IPython.core.display.HTML object>"
      ]
     },
     "metadata": {},
     "output_type": "display_data"
    }
   ],
   "source": [
    "walking_fset.sdf.spatial.plot(berlin_map)\n",
    "berlin_map"
   ]
  },
  {
   "cell_type": "code",
   "execution_count": null,
   "id": "e00348f5",
   "metadata": {},
   "outputs": [],
   "source": []
  }
 ],
 "metadata": {
  "kernelspec": {
   "display_name": "Python 3 (ipykernel)",
   "language": "python",
   "name": "python3"
  },
  "language_info": {
   "codemirror_mode": {
    "name": "ipython",
    "version": 3
   },
   "file_extension": ".py",
   "mimetype": "text/x-python",
   "name": "python",
   "nbconvert_exporter": "python",
   "pygments_lexer": "ipython3",
   "version": "3.9.15"
  }
 },
 "nbformat": 4,
 "nbformat_minor": 5
}
