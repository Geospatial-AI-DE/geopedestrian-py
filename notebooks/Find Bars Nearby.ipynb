{
 "cells": [
  {
   "cell_type": "markdown",
   "id": "1f62c10f",
   "metadata": {},
   "source": [
    "# Find bars nearby soccer stadiums located in Germany"
   ]
  },
  {
   "cell_type": "code",
   "execution_count": 1,
   "id": "f0d9ef53",
   "metadata": {},
   "outputs": [],
   "source": [
    "from arcgis.gis import GIS\n",
    "from arcgis.features import FeatureSet\n",
    "from geopedestrian.categories import CategoryRegistry\n",
    "from geopedestrian.services import drive_from, solve_walking, walk_from, walk_to\n",
    "from georapid.client import GeoRapidClient\n",
    "from georapid.factory import EnvironmentClientFactory"
   ]
  },
  {
   "cell_type": "code",
   "execution_count": null,
   "id": "1f02b3e2",
   "metadata": {},
   "outputs": [],
   "source": [
    "class LocalClient(GeoRapidClient):\n",
    "    \n",
    "    def __init__(self, url, auth_headers):\n",
    "        pass\n",
    "    \n",
    "    @property\n",
    "    def auth_headers(self):\n",
    "        return None\n",
    "    \n",
    "    @property\n",
    "    def url(self):\n",
    "        return 'http://localhost:7071/api'"
   ]
  },
  {
   "cell_type": "markdown",
   "id": "3016d24c",
   "metadata": {},
   "source": [
    "## If in debug mode using localhost"
   ]
  },
  {
   "cell_type": "code",
   "execution_count": null,
   "id": "9c973076",
   "metadata": {},
   "outputs": [],
   "source": [
    "client = LocalClient(None, None)"
   ]
  },
  {
   "cell_type": "markdown",
   "id": "f2345737",
   "metadata": {},
   "source": [
    "## If using the cloud service being hosted on RapidAPI"
   ]
  },
  {
   "cell_type": "code",
   "execution_count": 2,
   "id": "94b19102",
   "metadata": {},
   "outputs": [],
   "source": [
    "host = 'geopedestrian.p.rapidapi.com'\n",
    "client: GeoRapidClient = EnvironmentClientFactory.create_client_with_host(host)"
   ]
  },
  {
   "cell_type": "markdown",
   "id": "5acbae0f",
   "metadata": {},
   "source": [
    "## Location of Olympiastadion, Berlin"
   ]
  },
  {
   "cell_type": "code",
   "execution_count": null,
   "id": "14b94ad8",
   "metadata": {},
   "outputs": [],
   "source": [
    "lat, lon = 52.514610, 13.239665"
   ]
  },
  {
   "cell_type": "code",
   "execution_count": null,
   "id": "36fbcd53",
   "metadata": {},
   "outputs": [],
   "source": [
    "walking_geojson = solve_walking(client, lat, lon)\n",
    "walking_fset = FeatureSet.from_geojson(walking_geojson)\n",
    "walking_fset.sdf"
   ]
  },
  {
   "cell_type": "code",
   "execution_count": 3,
   "id": "1a916f6b",
   "metadata": {},
   "outputs": [],
   "source": [
    "gis = GIS()"
   ]
  },
  {
   "cell_type": "code",
   "execution_count": 7,
   "id": "99f695be",
   "metadata": {},
   "outputs": [
    {
     "data": {
      "application/vnd.jupyter.widget-view+json": {
       "model_id": "d643cbdab8e94d0392ba7f4527de97c7",
       "version_major": 2,
       "version_minor": 0
      },
      "text/plain": [
       "MapView(layout=Layout(height='400px', width='100%'))"
      ]
     },
     "metadata": {},
     "output_type": "display_data"
    },
    {
     "data": {
      "text/html": [
       "<div class=\"map-static-img-preview-a869b766-139e-4c4c-aaeb-8ca4cac9d129\"><img src=\"\"></img></div>"
      ],
      "text/plain": [
       "<IPython.core.display.HTML object>"
      ]
     },
     "metadata": {},
     "output_type": "display_data"
    },
    {
     "data": {
      "text/html": [
       "<div class=\"map-html-embed-preview-a869b766-139e-4c4c-aaeb-8ca4cac9d129\"></div>"
      ],
      "text/plain": [
       "<IPython.core.display.HTML object>"
      ]
     },
     "metadata": {},
     "output_type": "display_data"
    }
   ],
   "source": [
    "berlin_map = gis.map('Berlin, Germany')\n",
    "berlin_map.basemap = 'osm'\n",
    "berlin_map"
   ]
  },
  {
   "cell_type": "code",
   "execution_count": null,
   "id": "9ff0e358",
   "metadata": {},
   "outputs": [],
   "source": [
    "walking_fset.sdf.spatial.plot(berlin_map, renderer_type='u', col='ToBreak', cmap='RdYlGn', alpha=0.35)\n",
    "berlin_map.zoom_to_layer(walking_fset)\n",
    "berlin_map"
   ]
  },
  {
   "cell_type": "markdown",
   "id": "2f59b719",
   "metadata": {},
   "source": [
    "## Places Category Bars"
   ]
  },
  {
   "cell_type": "code",
   "execution_count": null,
   "id": "27925b85",
   "metadata": {},
   "outputs": [],
   "source": [
    "category_registry = CategoryRegistry()\n",
    "category = category_registry.find_id('Bar')\n",
    "walking_result = walk_to(client, lat, lon, category)\n",
    "places_geojson = walking_result['places']\n",
    "places_fset = FeatureSet.from_geojson(places_geojson)\n",
    "places_fset.sdf"
   ]
  },
  {
   "cell_type": "code",
   "execution_count": null,
   "id": "419d3a29",
   "metadata": {},
   "outputs": [],
   "source": [
    "places_fset.sdf.spatial.plot(berlin_map)\n",
    "berlin_map"
   ]
  },
  {
   "cell_type": "code",
   "execution_count": null,
   "id": "1736940b",
   "metadata": {},
   "outputs": [],
   "source": [
    "routes_geojson = walking_result['routes']\n",
    "routes_fset = FeatureSet.from_geojson(routes_geojson)\n",
    "routes_fset.sdf"
   ]
  },
  {
   "cell_type": "code",
   "execution_count": null,
   "id": "c7d3aff2",
   "metadata": {},
   "outputs": [],
   "source": [
    "routes_fset.sdf.spatial.plot(berlin_map)\n",
    "berlin_map"
   ]
  },
  {
   "cell_type": "markdown",
   "id": "20b07544",
   "metadata": {},
   "source": [
    "## Places Hotels"
   ]
  },
  {
   "cell_type": "code",
   "execution_count": null,
   "id": "03ddf041",
   "metadata": {},
   "outputs": [],
   "source": [
    "category_registry = CategoryRegistry()\n",
    "category = category_registry.find_id('Hotel')\n",
    "near_lat, near_lon = 52.5062753, 13.3454184\n",
    "walking_result = walk_from(client, near_lat, near_lon, category)\n",
    "places_geojson = walking_result['places']\n",
    "places_fset = FeatureSet.from_geojson(places_geojson)\n",
    "places_fset.sdf"
   ]
  },
  {
   "cell_type": "markdown",
   "id": "fe609b6f",
   "metadata": {},
   "source": [
    "## Places Ambulance Service"
   ]
  },
  {
   "cell_type": "code",
   "execution_count": null,
   "id": "f38f17b1",
   "metadata": {},
   "outputs": [],
   "source": [
    "ambulance_category = category_registry.find_id('Ambulance Service')\n",
    "near_lat, near_lon = 52.5062753, 13.3454184\n",
    "driving_result = drive_from(client, near_lat, near_lon, ambulance_category)\n",
    "places_geojson = driving_result['places']\n",
    "places_fset = FeatureSet.from_geojson(places_geojson)\n",
    "places_fset.sdf"
   ]
  },
  {
   "cell_type": "code",
   "execution_count": null,
   "id": "4d2a3c01",
   "metadata": {},
   "outputs": [],
   "source": [
    "routes_geojson = driving_result['routes']\n",
    "routes_fset = FeatureSet.from_geojson(routes_geojson)\n",
    "routes_fset.sdf"
   ]
  },
  {
   "cell_type": "code",
   "execution_count": null,
   "id": "390f72b6",
   "metadata": {},
   "outputs": [],
   "source": [
    "berlin_map = gis.map('Berlin, Germany')\n",
    "routes_fset.sdf.spatial.plot(berlin_map, renderer_type='s', palette=[0, 120, 0, 130], line_width=15)\n",
    "berlin_map.zoom_to_layer(routes_fset)\n",
    "berlin_map"
   ]
  },
  {
   "cell_type": "code",
   "execution_count": null,
   "id": "e5ef8b15",
   "metadata": {},
   "outputs": [],
   "source": []
  }
 ],
 "metadata": {
  "kernelspec": {
   "display_name": "Python 3 (ipykernel)",
   "language": "python",
   "name": "python3"
  },
  "language_info": {
   "codemirror_mode": {
    "name": "ipython",
    "version": 3
   },
   "file_extension": ".py",
   "mimetype": "text/x-python",
   "name": "python",
   "nbconvert_exporter": "python",
   "pygments_lexer": "ipython3",
   "version": "3.9.15"
  }
 },
 "nbformat": 4,
 "nbformat_minor": 5
}
